{
 "cells": [
  {
   "cell_type": "markdown",
   "metadata": {},
   "source": [
    "This is the final part of my CNN series for detecting respiratory diseases using respiratory sound. On this kernel, we use the images created from audio to feed to a convolutional 2d model, in this case, I'm using VGG16.\n",
    "\n",
    "If you missed out on how we manipulate and transformed out data, you can look through these kernels:\n",
    "- Part 1: [Slice audio into subslices based on the txt files](https://www.kaggle.com/danaelisanicolas/cnn-part-1-create-subslices-for-each-sound)\n",
    "- Part 2: [Splitting to train and test](https://www.kaggle.com/danaelisanicolas/cnn-part-2-split-to-train-and-test)\n",
    "- Part 3: [Convert audio to spectrogram images](https://www.kaggle.com/danaelisanicolas/cnn-part-3-create-spectrogram-images)\n",
    "\n",
    "Without further adeu, let's start!"
   ]
  },
  {
   "cell_type": "code",
   "execution_count": 1,
   "metadata": {},
   "outputs": [
    {
     "name": "stdout",
     "output_type": "stream",
     "text": [
      "respiratory-sound-database  specimages\r\n"
     ]
    }
   ],
   "source": []
  },
  {
   "cell_type": "markdown",
   "metadata": {},
   "source": [
    "Import the necessary libraries. Here we're using TensorFlow Keras. Again as mentioned, we'll use VGG16."
   ]
  },
  {
   "cell_type": "code",
   "execution_count": 1,
   "metadata": {
    "_cell_guid": "b1076dfc-b9ad-4769-8c92-a6c4dae69d19",
    "_uuid": "8f2839f25d086af736a60e9eeb907d3b93b6e0e5"
   },
   "outputs": [],
   "source": [
    "from tensorflow.keras.applications.vgg16 import VGG16\n",
    "from tensorflow.keras.applications.vgg16 import preprocess_input\n",
    "from tensorflow.keras.models import Model, Sequential\n",
    "from tensorflow.keras.preprocessing.image import ImageDataGenerator\n",
    "from tensorflow.keras.optimizers import Adam\n",
    "from tensorflow.keras.layers import Dense, Conv2D, MaxPool2D , Flatten\n",
    "from tensorflow.keras.losses import categorical_crossentropy\n",
    "from tensorflow.keras.callbacks import ModelCheckpoint, EarlyStopping\n",
    "from tensorflow.keras import metrics\n",
    "\n",
    "from sklearn.utils import class_weight\n",
    "from collections import Counter\n",
    "\n",
    "import matplotlib.pyplot as plt\n",
    "\n",
    "from os import listdir\n",
    "from os.path import isfile, join\n",
    "\n",
    "import pandas as pd"
   ]
  },
  {
   "cell_type": "code",
   "execution_count": 2,
   "metadata": {
    "_cell_guid": "79c7e3d0-c299-4dcb-8224-4455121ee9b0",
    "_uuid": "d629ff2d2480ee46fbb7e2d37f6b5fab8052498a"
   },
   "outputs": [],
   "source": [
    "train_loc = './COVIDspec/train/'\n",
    "test_loc = './COVIDspec/val/'"
   ]
  },
  {
   "cell_type": "markdown",
   "metadata": {},
   "source": [
    "Load the train and test data using ImageDataGenerator flow_from_directory. Target size set to 224x224 given that this is the input requirement of VGG16."
   ]
  },
  {
   "cell_type": "code",
   "execution_count": 3,
   "metadata": {},
   "outputs": [
    {
     "name": "stdout",
     "output_type": "stream",
     "text": [
      "Found 4939 images belonging to 2 classes.\n",
      "Found 1236 images belonging to 2 classes.\n"
     ]
    }
   ],
   "source": [
    "trdata = ImageDataGenerator()\n",
    "traindata = trdata.flow_from_directory(directory=train_loc, target_size=(224,224))\n",
    "tsdata = ImageDataGenerator()\n",
    "testdata = tsdata.flow_from_directory(directory=test_loc, target_size=(224,224))"
   ]
  },
  {
   "cell_type": "code",
   "execution_count": 4,
   "metadata": {},
   "outputs": [],
   "source": [
    "#diagnosis_csv = './respiratory-sound-database/respiratory_sound_database/Respiratory_Sound_Database/patient_diagnosis.csv'\n",
    "#diagnosis = pd.read_csv(diagnosis_csv, names=['pId', 'diagnosis'])\n",
    "#diagnosis.head()"
   ]
  },
  {
   "cell_type": "code",
   "execution_count": 5,
   "metadata": {},
   "outputs": [],
   "source": [
    "#categories = diagnosis['diagnosis'].unique()\n",
    "#categories"
   ]
  },
  {
   "cell_type": "markdown",
   "metadata": {},
   "source": [
    "## Use the weights from imagenet to get the pretrained model. The prediction is set to 8 output because we have 8 classes."
   ]
  },
  {
   "cell_type": "code",
   "execution_count": 6,
   "metadata": {},
   "outputs": [
    {
     "name": "stdout",
     "output_type": "stream",
     "text": [
      "Model: \"vgg16\"\n",
      "_________________________________________________________________\n",
      "Layer (type)                 Output Shape              Param #   \n",
      "=================================================================\n",
      "input_1 (InputLayer)         [(None, 224, 224, 3)]     0         \n",
      "_________________________________________________________________\n",
      "block1_conv1 (Conv2D)        (None, 224, 224, 64)      1792      \n",
      "_________________________________________________________________\n",
      "block1_conv2 (Conv2D)        (None, 224, 224, 64)      36928     \n",
      "_________________________________________________________________\n",
      "block1_pool (MaxPooling2D)   (None, 112, 112, 64)      0         \n",
      "_________________________________________________________________\n",
      "block2_conv1 (Conv2D)        (None, 112, 112, 128)     73856     \n",
      "_________________________________________________________________\n",
      "block2_conv2 (Conv2D)        (None, 112, 112, 128)     147584    \n",
      "_________________________________________________________________\n",
      "block2_pool (MaxPooling2D)   (None, 56, 56, 128)       0         \n",
      "_________________________________________________________________\n",
      "block3_conv1 (Conv2D)        (None, 56, 56, 256)       295168    \n",
      "_________________________________________________________________\n",
      "block3_conv2 (Conv2D)        (None, 56, 56, 256)       590080    \n",
      "_________________________________________________________________\n",
      "block3_conv3 (Conv2D)        (None, 56, 56, 256)       590080    \n",
      "_________________________________________________________________\n",
      "block3_pool (MaxPooling2D)   (None, 28, 28, 256)       0         \n",
      "_________________________________________________________________\n",
      "block4_conv1 (Conv2D)        (None, 28, 28, 512)       1180160   \n",
      "_________________________________________________________________\n",
      "block4_conv2 (Conv2D)        (None, 28, 28, 512)       2359808   \n",
      "_________________________________________________________________\n",
      "block4_conv3 (Conv2D)        (None, 28, 28, 512)       2359808   \n",
      "_________________________________________________________________\n",
      "block4_pool (MaxPooling2D)   (None, 14, 14, 512)       0         \n",
      "_________________________________________________________________\n",
      "block5_conv1 (Conv2D)        (None, 14, 14, 512)       2359808   \n",
      "_________________________________________________________________\n",
      "block5_conv2 (Conv2D)        (None, 14, 14, 512)       2359808   \n",
      "_________________________________________________________________\n",
      "block5_conv3 (Conv2D)        (None, 14, 14, 512)       2359808   \n",
      "_________________________________________________________________\n",
      "block5_pool (MaxPooling2D)   (None, 7, 7, 512)         0         \n",
      "_________________________________________________________________\n",
      "flatten (Flatten)            (None, 25088)             0         \n",
      "_________________________________________________________________\n",
      "fc1 (Dense)                  (None, 4096)              102764544 \n",
      "_________________________________________________________________\n",
      "fc2 (Dense)                  (None, 4096)              16781312  \n",
      "_________________________________________________________________\n",
      "predictions (Dense)          (None, 1000)              4097000   \n",
      "=================================================================\n",
      "Total params: 138,357,544\n",
      "Trainable params: 138,357,544\n",
      "Non-trainable params: 0\n",
      "_________________________________________________________________\n"
     ]
    }
   ],
   "source": [
    "vgg16 = VGG16(weights='imagenet')\n",
    "vgg16.summary()\n",
    "\n",
    "x  = vgg16.get_layer('fc2').output\n",
    "prediction = Dense(2, activation='softmax', name='predictions')(x)\n",
    "\n",
    "model = Model(inputs=vgg16.input, outputs=prediction)"
   ]
  },
  {
   "cell_type": "markdown",
   "metadata": {},
   "source": [
    "Now consider that normally, imagenet is recognising objects. We have spectrogram images which has signals. So we set 20 out of 23 layers to trainable."
   ]
  },
  {
   "cell_type": "code",
   "execution_count": 7,
   "metadata": {},
   "outputs": [
    {
     "name": "stdout",
     "output_type": "stream",
     "text": [
      "Layer 'block1_pool' is trainable\n",
      "Layer 'block2_conv1' is trainable\n",
      "Layer 'block2_conv2' is trainable\n",
      "Layer 'block2_pool' is trainable\n",
      "Layer 'block3_conv1' is trainable\n",
      "Layer 'block3_conv2' is trainable\n",
      "Layer 'block3_conv3' is trainable\n",
      "Layer 'block3_pool' is trainable\n",
      "Layer 'block4_conv1' is trainable\n",
      "Layer 'block4_conv2' is trainable\n",
      "Layer 'block4_conv3' is trainable\n",
      "Layer 'block4_pool' is trainable\n",
      "Layer 'block5_conv1' is trainable\n",
      "Layer 'block5_conv2' is trainable\n",
      "Layer 'block5_conv3' is trainable\n",
      "Layer 'block5_pool' is trainable\n",
      "Layer 'flatten' is trainable\n",
      "Layer 'fc1' is trainable\n",
      "Layer 'fc2' is trainable\n",
      "Layer 'predictions' is trainable\n"
     ]
    }
   ],
   "source": [
    "for layer in model.layers:\n",
    "    layer.trainable = False\n",
    "\n",
    "for layer in model.layers[-20:]:\n",
    "    layer.trainable = True\n",
    "    print(\"Layer '%s' is trainable\" % layer.name)  "
   ]
  },
  {
   "cell_type": "markdown",
   "metadata": {},
   "source": [
    "Use Adam as our optimiser and set the learning rate to 0.000001 because again we're trying to recognise signals. Additionally it's not a normal sound wave either cause we're using breathing sounds. So the model has to be very sensitive to small details."
   ]
  },
  {
   "cell_type": "code",
   "execution_count": 8,
   "metadata": {},
   "outputs": [
    {
     "name": "stdout",
     "output_type": "stream",
     "text": [
      "Model: \"functional_1\"\n",
      "_________________________________________________________________\n",
      "Layer (type)                 Output Shape              Param #   \n",
      "=================================================================\n",
      "input_1 (InputLayer)         [(None, 224, 224, 3)]     0         \n",
      "_________________________________________________________________\n",
      "block1_conv1 (Conv2D)        (None, 224, 224, 64)      1792      \n",
      "_________________________________________________________________\n",
      "block1_conv2 (Conv2D)        (None, 224, 224, 64)      36928     \n",
      "_________________________________________________________________\n",
      "block1_pool (MaxPooling2D)   (None, 112, 112, 64)      0         \n",
      "_________________________________________________________________\n",
      "block2_conv1 (Conv2D)        (None, 112, 112, 128)     73856     \n",
      "_________________________________________________________________\n",
      "block2_conv2 (Conv2D)        (None, 112, 112, 128)     147584    \n",
      "_________________________________________________________________\n",
      "block2_pool (MaxPooling2D)   (None, 56, 56, 128)       0         \n",
      "_________________________________________________________________\n",
      "block3_conv1 (Conv2D)        (None, 56, 56, 256)       295168    \n",
      "_________________________________________________________________\n",
      "block3_conv2 (Conv2D)        (None, 56, 56, 256)       590080    \n",
      "_________________________________________________________________\n",
      "block3_conv3 (Conv2D)        (None, 56, 56, 256)       590080    \n",
      "_________________________________________________________________\n",
      "block3_pool (MaxPooling2D)   (None, 28, 28, 256)       0         \n",
      "_________________________________________________________________\n",
      "block4_conv1 (Conv2D)        (None, 28, 28, 512)       1180160   \n",
      "_________________________________________________________________\n",
      "block4_conv2 (Conv2D)        (None, 28, 28, 512)       2359808   \n",
      "_________________________________________________________________\n",
      "block4_conv3 (Conv2D)        (None, 28, 28, 512)       2359808   \n",
      "_________________________________________________________________\n",
      "block4_pool (MaxPooling2D)   (None, 14, 14, 512)       0         \n",
      "_________________________________________________________________\n",
      "block5_conv1 (Conv2D)        (None, 14, 14, 512)       2359808   \n",
      "_________________________________________________________________\n",
      "block5_conv2 (Conv2D)        (None, 14, 14, 512)       2359808   \n",
      "_________________________________________________________________\n",
      "block5_conv3 (Conv2D)        (None, 14, 14, 512)       2359808   \n",
      "_________________________________________________________________\n",
      "block5_pool (MaxPooling2D)   (None, 7, 7, 512)         0         \n",
      "_________________________________________________________________\n",
      "flatten (Flatten)            (None, 25088)             0         \n",
      "_________________________________________________________________\n",
      "fc1 (Dense)                  (None, 4096)              102764544 \n",
      "_________________________________________________________________\n",
      "fc2 (Dense)                  (None, 4096)              16781312  \n",
      "_________________________________________________________________\n",
      "predictions (Dense)          (None, 2)                 8194      \n",
      "=================================================================\n",
      "Total params: 134,268,738\n",
      "Trainable params: 134,230,018\n",
      "Non-trainable params: 38,720\n",
      "_________________________________________________________________\n"
     ]
    }
   ],
   "source": [
    "opt = Adam(lr=0.000001)\n",
    "model.compile(optimizer=opt, loss=categorical_crossentropy, \n",
    "              metrics=['accuracy', 'mae'])\n",
    "model.summary()"
   ]
  },
  {
   "cell_type": "markdown",
   "metadata": {},
   "source": [
    "Now we also want to save the model if the validation accuracy improved. However, we don't want to waste computational resource if we're seeing the lack of improvement after 20 epochs.\n",
    "\n",
    "We then define the checkpoint and early stopping for our model."
   ]
  },
  {
   "cell_type": "code",
   "execution_count": 9,
   "metadata": {},
   "outputs": [],
   "source": [
    "checkpoint = ModelCheckpoint(\"vgg16_base_res.h5\", monitor='val_accuracy', verbose=1, \n",
    "                             save_best_only=True, save_weights_only=False, mode='auto')\n",
    "early = EarlyStopping(monitor='val_accuracy', min_delta=0, patience=20, verbose=1, mode='auto')"
   ]
  },
  {
   "cell_type": "markdown",
   "metadata": {},
   "source": [
    "Now, considering our data is imbalanced, we need to compute the class weight for each category/class."
   ]
  },
  {
   "cell_type": "code",
   "execution_count": 10,
   "metadata": {},
   "outputs": [
    {
     "data": {
      "text/plain": [
       "{0: 10.302059496567505, 1: 1.0}"
      ]
     },
     "execution_count": 10,
     "metadata": {},
     "output_type": "execute_result"
    }
   ],
   "source": [
    "counter = Counter(traindata.classes)                       \n",
    "max_val = float(max(counter.values()))   \n",
    "class_weights = {class_id : max_val/num_images for class_id, num_images in counter.items()}\n",
    "class_weights"
   ]
  },
  {
   "cell_type": "markdown",
   "metadata": {},
   "source": [
    "Finally everything's set, let's start training!\n",
    "\n",
    "Notice that steps_per_epoch and validation_steps were calculated instead of just simply setting a random value. The reason is we need to see the optimal way to getting these values. We calculate this by dividing samples / batch_size."
   ]
  },
  {
   "cell_type": "code",
   "execution_count": 11,
   "metadata": {
    "scrolled": false
   },
   "outputs": [
    {
     "name": "stdout",
     "output_type": "stream",
     "text": [
      "Epoch 1/110\n",
      "  2/154 [..............................] - ETA: 7s - loss: 0.4055 - accuracy: 0.9062 - mae: 0.3171WARNING:tensorflow:Callbacks method `on_train_batch_end` is slow compared to the batch time (batch time: 0.0394s vs `on_train_batch_end` time: 0.0638s). Check your callbacks.\n",
      "154/154 [==============================] - ETA: 0s - loss: 1.3182 - accuracy: 0.5307 - mae: 0.4806\n",
      "Epoch 00001: val_accuracy improved from -inf to 0.69161, saving model to vgg16_base_res.h5\n",
      "154/154 [==============================] - 126s 819ms/step - loss: 1.3182 - accuracy: 0.5307 - mae: 0.4806 - val_loss: 0.5985 - val_accuracy: 0.6916 - val_mae: 0.4352\n",
      "Epoch 2/110\n",
      "154/154 [==============================] - ETA: 0s - loss: 1.2317 - accuracy: 0.5769 - mae: 0.4621\n",
      "Epoch 00002: val_accuracy did not improve from 0.69161\n",
      "154/154 [==============================] - 20s 131ms/step - loss: 1.2317 - accuracy: 0.5769 - mae: 0.4621 - val_loss: 0.7408 - val_accuracy: 0.4342 - val_mae: 0.5088\n",
      "Epoch 3/110\n",
      "154/154 [==============================] - ETA: 0s - loss: 1.1515 - accuracy: 0.6189 - mae: 0.4482\n",
      "Epoch 00003: val_accuracy improved from 0.69161 to 0.79359, saving model to vgg16_base_res.h5\n",
      "154/154 [==============================] - 20s 132ms/step - loss: 1.1515 - accuracy: 0.6189 - mae: 0.4482 - val_loss: 0.4944 - val_accuracy: 0.7936 - val_mae: 0.3649\n",
      "Epoch 4/110\n",
      "154/154 [==============================] - ETA: 0s - loss: 1.1021 - accuracy: 0.6531 - mae: 0.4255\n",
      "Epoch 00004: val_accuracy did not improve from 0.79359\n",
      "154/154 [==============================] - 21s 135ms/step - loss: 1.1021 - accuracy: 0.6531 - mae: 0.4255 - val_loss: 0.5469 - val_accuracy: 0.7270 - val_mae: 0.3982\n",
      "Epoch 5/110\n",
      "154/154 [==============================] - ETA: 0s - loss: 1.0448 - accuracy: 0.6860 - mae: 0.4081\n",
      "Epoch 00005: val_accuracy did not improve from 0.79359\n",
      "154/154 [==============================] - 20s 132ms/step - loss: 1.0448 - accuracy: 0.6860 - mae: 0.4081 - val_loss: 0.5981 - val_accuracy: 0.6390 - val_mae: 0.4148\n",
      "Epoch 6/110\n",
      "154/154 [==============================] - ETA: 0s - loss: 0.9911 - accuracy: 0.6994 - mae: 0.3936\n",
      "Epoch 00006: val_accuracy did not improve from 0.79359\n",
      "154/154 [==============================] - 20s 132ms/step - loss: 0.9911 - accuracy: 0.6994 - mae: 0.3936 - val_loss: 0.5375 - val_accuracy: 0.7007 - val_mae: 0.3782\n",
      "Epoch 7/110\n",
      "154/154 [==============================] - ETA: 0s - loss: 0.9060 - accuracy: 0.7442 - mae: 0.3593\n",
      "Epoch 00007: val_accuracy did not improve from 0.79359\n",
      "154/154 [==============================] - 20s 131ms/step - loss: 0.9060 - accuracy: 0.7442 - mae: 0.3593 - val_loss: 0.6776 - val_accuracy: 0.5855 - val_mae: 0.4456\n",
      "Epoch 8/110\n",
      "154/154 [==============================] - ETA: 0s - loss: 0.8383 - accuracy: 0.7732 - mae: 0.3310\n",
      "Epoch 00008: val_accuracy did not improve from 0.79359\n",
      "154/154 [==============================] - 21s 133ms/step - loss: 0.8383 - accuracy: 0.7732 - mae: 0.3310 - val_loss: 0.7129 - val_accuracy: 0.5732 - val_mae: 0.4495\n",
      "Epoch 9/110\n",
      "154/154 [==============================] - ETA: 0s - loss: 0.7693 - accuracy: 0.7836 - mae: 0.3101\n",
      "Epoch 00009: val_accuracy did not improve from 0.79359\n",
      "154/154 [==============================] - 20s 133ms/step - loss: 0.7693 - accuracy: 0.7836 - mae: 0.3101 - val_loss: 0.5586 - val_accuracy: 0.6842 - val_mae: 0.3690\n",
      "Epoch 10/110\n",
      "154/154 [==============================] - ETA: 0s - loss: 0.6539 - accuracy: 0.8341 - mae: 0.2732\n",
      "Epoch 00010: val_accuracy improved from 0.79359 to 0.87171, saving model to vgg16_base_res.h5\n",
      "154/154 [==============================] - 21s 135ms/step - loss: 0.6539 - accuracy: 0.8341 - mae: 0.2732 - val_loss: 0.3596 - val_accuracy: 0.8717 - val_mae: 0.2189\n",
      "Epoch 11/110\n",
      "154/154 [==============================] - ETA: 0s - loss: 0.5916 - accuracy: 0.8508 - mae: 0.2422\n",
      "Epoch 00011: val_accuracy did not improve from 0.87171\n",
      "154/154 [==============================] - 20s 132ms/step - loss: 0.5916 - accuracy: 0.8508 - mae: 0.2422 - val_loss: 0.4553 - val_accuracy: 0.7804 - val_mae: 0.2895\n",
      "Epoch 12/110\n",
      "154/154 [==============================] - ETA: 0s - loss: 0.5099 - accuracy: 0.8824 - mae: 0.2127\n",
      "Epoch 00012: val_accuracy did not improve from 0.87171\n",
      "154/154 [==============================] - 21s 135ms/step - loss: 0.5099 - accuracy: 0.8824 - mae: 0.2127 - val_loss: 0.5230 - val_accuracy: 0.7360 - val_mae: 0.3191\n",
      "Epoch 13/110\n",
      "154/154 [==============================] - ETA: 0s - loss: 0.4330 - accuracy: 0.8981 - mae: 0.1869\n",
      "Epoch 00013: val_accuracy did not improve from 0.87171\n",
      "154/154 [==============================] - 20s 132ms/step - loss: 0.4330 - accuracy: 0.8981 - mae: 0.1869 - val_loss: 0.4816 - val_accuracy: 0.7730 - val_mae: 0.2779\n",
      "Epoch 14/110\n",
      "154/154 [==============================] - ETA: 0s - loss: 0.3671 - accuracy: 0.9228 - mae: 0.1584\n",
      "Epoch 00014: val_accuracy did not improve from 0.87171\n",
      "154/154 [==============================] - 20s 132ms/step - loss: 0.3671 - accuracy: 0.9228 - mae: 0.1584 - val_loss: 0.4280 - val_accuracy: 0.8363 - val_mae: 0.2192\n",
      "Epoch 15/110\n",
      "154/154 [==============================] - ETA: 0s - loss: 0.3029 - accuracy: 0.9356 - mae: 0.1334\n",
      "Epoch 00015: val_accuracy did not improve from 0.87171\n",
      "154/154 [==============================] - 20s 131ms/step - loss: 0.3029 - accuracy: 0.9356 - mae: 0.1334 - val_loss: 0.6043 - val_accuracy: 0.7138 - val_mae: 0.3130\n",
      "Epoch 16/110\n",
      "154/154 [==============================] - ETA: 0s - loss: 0.2581 - accuracy: 0.9509 - mae: 0.1154\n",
      "Epoch 00016: val_accuracy did not improve from 0.87171\n",
      "154/154 [==============================] - 20s 132ms/step - loss: 0.2581 - accuracy: 0.9509 - mae: 0.1154 - val_loss: 0.4527 - val_accuracy: 0.8454 - val_mae: 0.1996\n",
      "Epoch 17/110\n",
      "154/154 [==============================] - ETA: 0s - loss: 0.2029 - accuracy: 0.9658 - mae: 0.0920\n",
      "Epoch 00017: val_accuracy did not improve from 0.87171\n",
      "154/154 [==============================] - 20s 130ms/step - loss: 0.2029 - accuracy: 0.9658 - mae: 0.0920 - val_loss: 0.6113 - val_accuracy: 0.7253 - val_mae: 0.3028\n",
      "Epoch 18/110\n",
      "154/154 [==============================] - ETA: 0s - loss: 0.1703 - accuracy: 0.9711 - mae: 0.0792\n",
      "Epoch 00018: val_accuracy did not improve from 0.87171\n",
      "154/154 [==============================] - 20s 131ms/step - loss: 0.1703 - accuracy: 0.9711 - mae: 0.0792 - val_loss: 0.4824 - val_accuracy: 0.8487 - val_mae: 0.1836\n",
      "Epoch 19/110\n",
      "154/154 [==============================] - ETA: 0s - loss: 0.1497 - accuracy: 0.9764 - mae: 0.0689\n",
      "Epoch 00019: val_accuracy did not improve from 0.87171\n",
      "154/154 [==============================] - 20s 131ms/step - loss: 0.1497 - accuracy: 0.9764 - mae: 0.0689 - val_loss: 0.5356 - val_accuracy: 0.8191 - val_mae: 0.2086\n",
      "Epoch 20/110\n",
      "154/154 [==============================] - ETA: 0s - loss: 0.1056 - accuracy: 0.9880 - mae: 0.0510\n",
      "Epoch 00020: val_accuracy did not improve from 0.87171\n",
      "154/154 [==============================] - 20s 132ms/step - loss: 0.1056 - accuracy: 0.9880 - mae: 0.0510 - val_loss: 0.5134 - val_accuracy: 0.8643 - val_mae: 0.1683\n",
      "Epoch 21/110\n",
      "154/154 [==============================] - ETA: 0s - loss: 0.0907 - accuracy: 0.9898 - mae: 0.0441\n",
      "Epoch 00021: val_accuracy did not improve from 0.87171\n",
      "154/154 [==============================] - 20s 131ms/step - loss: 0.0907 - accuracy: 0.9898 - mae: 0.0441 - val_loss: 0.5668 - val_accuracy: 0.8355 - val_mae: 0.1901\n",
      "Epoch 22/110\n",
      "154/154 [==============================] - ETA: 0s - loss: 0.0718 - accuracy: 0.9943 - mae: 0.0351\n",
      "Epoch 00022: val_accuracy improved from 0.87171 to 0.87336, saving model to vgg16_base_res.h5\n",
      "154/154 [==============================] - 20s 133ms/step - loss: 0.0718 - accuracy: 0.9943 - mae: 0.0351 - val_loss: 0.5564 - val_accuracy: 0.8734 - val_mae: 0.1502\n",
      "Epoch 23/110\n",
      "154/154 [==============================] - ETA: 0s - loss: 0.0577 - accuracy: 0.9963 - mae: 0.0290\n",
      "Epoch 00023: val_accuracy improved from 0.87336 to 0.88240, saving model to vgg16_base_res.h5\n",
      "154/154 [==============================] - 21s 133ms/step - loss: 0.0577 - accuracy: 0.9963 - mae: 0.0290 - val_loss: 0.5858 - val_accuracy: 0.8824 - val_mae: 0.1425\n",
      "Epoch 24/110\n"
     ]
    },
    {
     "name": "stdout",
     "output_type": "stream",
     "text": [
      "154/154 [==============================] - ETA: 0s - loss: 0.0435 - accuracy: 0.9982 - mae: 0.0222\n",
      "Epoch 00024: val_accuracy did not improve from 0.88240\n",
      "154/154 [==============================] - 20s 132ms/step - loss: 0.0435 - accuracy: 0.9982 - mae: 0.0222 - val_loss: 0.6050 - val_accuracy: 0.8816 - val_mae: 0.1378\n",
      "Epoch 25/110\n",
      "154/154 [==============================] - ETA: 0s - loss: 0.0379 - accuracy: 0.9986 - mae: 0.0191\n",
      "Epoch 00025: val_accuracy did not improve from 0.88240\n",
      "154/154 [==============================] - 21s 135ms/step - loss: 0.0379 - accuracy: 0.9986 - mae: 0.0191 - val_loss: 0.6270 - val_accuracy: 0.8725 - val_mae: 0.1491\n",
      "Epoch 26/110\n",
      "154/154 [==============================] - ETA: 0s - loss: 0.0302 - accuracy: 0.9990 - mae: 0.0158\n",
      "Epoch 00026: val_accuracy did not improve from 0.88240\n",
      "154/154 [==============================] - 20s 132ms/step - loss: 0.0302 - accuracy: 0.9990 - mae: 0.0158 - val_loss: 0.6303 - val_accuracy: 0.8668 - val_mae: 0.1553\n",
      "Epoch 27/110\n",
      "154/154 [==============================] - ETA: 0s - loss: 0.0241 - accuracy: 0.9998 - mae: 0.0125\n",
      "Epoch 00027: val_accuracy did not improve from 0.88240\n",
      "154/154 [==============================] - 20s 133ms/step - loss: 0.0241 - accuracy: 0.9998 - mae: 0.0125 - val_loss: 0.6605 - val_accuracy: 0.8594 - val_mae: 0.1611\n",
      "Epoch 28/110\n",
      "154/154 [==============================] - ETA: 0s - loss: 0.0214 - accuracy: 0.9996 - mae: 0.0111\n",
      "Epoch 00028: val_accuracy improved from 0.88240 to 0.88405, saving model to vgg16_base_res.h5\n",
      "154/154 [==============================] - 21s 134ms/step - loss: 0.0214 - accuracy: 0.9996 - mae: 0.0111 - val_loss: 0.6915 - val_accuracy: 0.8840 - val_mae: 0.1306\n",
      "Epoch 29/110\n",
      "154/154 [==============================] - ETA: 0s - loss: 0.0159 - accuracy: 1.0000 - mae: 0.0085\n",
      "Epoch 00029: val_accuracy did not improve from 0.88405\n",
      "154/154 [==============================] - 20s 131ms/step - loss: 0.0159 - accuracy: 1.0000 - mae: 0.0085 - val_loss: 0.7017 - val_accuracy: 0.8775 - val_mae: 0.1343\n",
      "Epoch 30/110\n",
      "154/154 [==============================] - ETA: 0s - loss: 0.0130 - accuracy: 1.0000 - mae: 0.0069\n",
      "Epoch 00030: val_accuracy did not improve from 0.88405\n",
      "154/154 [==============================] - 20s 131ms/step - loss: 0.0130 - accuracy: 1.0000 - mae: 0.0069 - val_loss: 0.7080 - val_accuracy: 0.8758 - val_mae: 0.1341\n",
      "Epoch 31/110\n",
      "154/154 [==============================] - ETA: 0s - loss: 0.0107 - accuracy: 1.0000 - mae: 0.0057\n",
      "Epoch 00031: val_accuracy did not improve from 0.88405\n",
      "154/154 [==============================] - 20s 132ms/step - loss: 0.0107 - accuracy: 1.0000 - mae: 0.0057 - val_loss: 0.7293 - val_accuracy: 0.8692 - val_mae: 0.1450\n",
      "Epoch 32/110\n",
      "154/154 [==============================] - ETA: 0s - loss: 0.0093 - accuracy: 1.0000 - mae: 0.0050\n",
      "Epoch 00032: val_accuracy did not improve from 0.88405\n",
      "154/154 [==============================] - 20s 132ms/step - loss: 0.0093 - accuracy: 1.0000 - mae: 0.0050 - val_loss: 0.7656 - val_accuracy: 0.8766 - val_mae: 0.1309\n",
      "Epoch 33/110\n",
      "154/154 [==============================] - ETA: 0s - loss: 0.0078 - accuracy: 1.0000 - mae: 0.0042\n",
      "Epoch 00033: val_accuracy did not improve from 0.88405\n",
      "154/154 [==============================] - 20s 132ms/step - loss: 0.0078 - accuracy: 1.0000 - mae: 0.0042 - val_loss: 0.7535 - val_accuracy: 0.8701 - val_mae: 0.1472\n",
      "Epoch 34/110\n",
      "154/154 [==============================] - ETA: 0s - loss: 0.0065 - accuracy: 1.0000 - mae: 0.0035\n",
      "Epoch 00034: val_accuracy did not improve from 0.88405\n",
      "154/154 [==============================] - 20s 132ms/step - loss: 0.0065 - accuracy: 1.0000 - mae: 0.0035 - val_loss: 0.8033 - val_accuracy: 0.8783 - val_mae: 0.1328\n",
      "Epoch 35/110\n",
      "154/154 [==============================] - ETA: 0s - loss: 0.0055 - accuracy: 1.0000 - mae: 0.0030\n",
      "Epoch 00035: val_accuracy did not improve from 0.88405\n",
      "154/154 [==============================] - 20s 131ms/step - loss: 0.0055 - accuracy: 1.0000 - mae: 0.0030 - val_loss: 0.8137 - val_accuracy: 0.8725 - val_mae: 0.1377\n",
      "Epoch 36/110\n",
      "154/154 [==============================] - ETA: 0s - loss: 0.0047 - accuracy: 1.0000 - mae: 0.0025\n",
      "Epoch 00036: val_accuracy did not improve from 0.88405\n",
      "154/154 [==============================] - 20s 130ms/step - loss: 0.0047 - accuracy: 1.0000 - mae: 0.0025 - val_loss: 0.8201 - val_accuracy: 0.8692 - val_mae: 0.1406\n",
      "Epoch 37/110\n",
      "154/154 [==============================] - ETA: 0s - loss: 0.0041 - accuracy: 1.0000 - mae: 0.0022\n",
      "Epoch 00037: val_accuracy did not improve from 0.88405\n",
      "154/154 [==============================] - 20s 132ms/step - loss: 0.0041 - accuracy: 1.0000 - mae: 0.0022 - val_loss: 0.7842 - val_accuracy: 0.8701 - val_mae: 0.1395\n",
      "Epoch 38/110\n",
      "154/154 [==============================] - ETA: 0s - loss: 0.0035 - accuracy: 1.0000 - mae: 0.0019\n",
      "Epoch 00038: val_accuracy did not improve from 0.88405\n",
      "154/154 [==============================] - 21s 134ms/step - loss: 0.0035 - accuracy: 1.0000 - mae: 0.0019 - val_loss: 0.8621 - val_accuracy: 0.8766 - val_mae: 0.1329\n",
      "Epoch 39/110\n",
      "154/154 [==============================] - ETA: 0s - loss: 0.0030 - accuracy: 1.0000 - mae: 0.0016\n",
      "Epoch 00039: val_accuracy did not improve from 0.88405\n",
      "154/154 [==============================] - 20s 133ms/step - loss: 0.0030 - accuracy: 1.0000 - mae: 0.0016 - val_loss: 0.8532 - val_accuracy: 0.8643 - val_mae: 0.1448\n",
      "Epoch 40/110\n",
      "154/154 [==============================] - ETA: 0s - loss: 0.0027 - accuracy: 1.0000 - mae: 0.0015\n",
      "Epoch 00040: val_accuracy did not improve from 0.88405\n",
      "154/154 [==============================] - 20s 132ms/step - loss: 0.0027 - accuracy: 1.0000 - mae: 0.0015 - val_loss: 0.9082 - val_accuracy: 0.8816 - val_mae: 0.1295\n",
      "Epoch 41/110\n",
      "154/154 [==============================] - ETA: 0s - loss: 0.0023 - accuracy: 1.0000 - mae: 0.0012\n",
      "Epoch 00041: val_accuracy did not improve from 0.88405\n",
      "154/154 [==============================] - 20s 131ms/step - loss: 0.0023 - accuracy: 1.0000 - mae: 0.0012 - val_loss: 0.9168 - val_accuracy: 0.8832 - val_mae: 0.1272\n",
      "Epoch 42/110\n",
      "154/154 [==============================] - ETA: 0s - loss: 0.0020 - accuracy: 1.0000 - mae: 0.0011\n",
      "Epoch 00042: val_accuracy did not improve from 0.88405\n",
      "154/154 [==============================] - 21s 134ms/step - loss: 0.0020 - accuracy: 1.0000 - mae: 0.0011 - val_loss: 0.9077 - val_accuracy: 0.8701 - val_mae: 0.1369\n",
      "Epoch 43/110\n",
      "154/154 [==============================] - ETA: 0s - loss: 0.0017 - accuracy: 1.0000 - mae: 9.4141e-04\n",
      "Epoch 00043: val_accuracy did not improve from 0.88405\n",
      "154/154 [==============================] - 20s 131ms/step - loss: 0.0017 - accuracy: 1.0000 - mae: 9.4141e-04 - val_loss: 0.9455 - val_accuracy: 0.8808 - val_mae: 0.1268\n",
      "Epoch 44/110\n",
      "154/154 [==============================] - ETA: 0s - loss: 0.0015 - accuracy: 1.0000 - mae: 8.0573e-04\n",
      "Epoch 00044: val_accuracy did not improve from 0.88405\n",
      "154/154 [==============================] - 20s 132ms/step - loss: 0.0015 - accuracy: 1.0000 - mae: 8.0573e-04 - val_loss: 0.9301 - val_accuracy: 0.8783 - val_mae: 0.1327\n",
      "Epoch 45/110\n",
      "154/154 [==============================] - ETA: 0s - loss: 0.0013 - accuracy: 1.0000 - mae: 7.3356e-04\n",
      "Epoch 00045: val_accuracy did not improve from 0.88405\n",
      "154/154 [==============================] - 21s 134ms/step - loss: 0.0013 - accuracy: 1.0000 - mae: 7.3356e-04 - val_loss: 0.9307 - val_accuracy: 0.8824 - val_mae: 0.1263\n",
      "Epoch 46/110\n",
      "154/154 [==============================] - ETA: 0s - loss: 0.0012 - accuracy: 1.0000 - mae: 6.3383e-04\n",
      "Epoch 00046: val_accuracy did not improve from 0.88405\n",
      "154/154 [==============================] - 20s 133ms/step - loss: 0.0012 - accuracy: 1.0000 - mae: 6.3383e-04 - val_loss: 0.9835 - val_accuracy: 0.8791 - val_mae: 0.1296\n",
      "Epoch 47/110\n",
      "154/154 [==============================] - ETA: 0s - loss: 0.0010 - accuracy: 1.0000 - mae: 5.6032e-04\n",
      "Epoch 00047: val_accuracy did not improve from 0.88405\n",
      "154/154 [==============================] - 21s 134ms/step - loss: 0.0010 - accuracy: 1.0000 - mae: 5.6032e-04 - val_loss: 0.9709 - val_accuracy: 0.8775 - val_mae: 0.1321\n",
      "Epoch 48/110\n",
      "154/154 [==============================] - ETA: 0s - loss: 9.3470e-04 - accuracy: 1.0000 - mae: 5.1024e-04\n",
      "Epoch 00048: val_accuracy did not improve from 0.88405\n",
      "154/154 [==============================] - 20s 132ms/step - loss: 9.3470e-04 - accuracy: 1.0000 - mae: 5.1024e-04 - val_loss: 1.0227 - val_accuracy: 0.8775 - val_mae: 0.1283\n"
     ]
    },
    {
     "name": "stdout",
     "output_type": "stream",
     "text": [
      "Epoch 00048: early stopping\n"
     ]
    }
   ],
   "source": [
    "hist = model.fit(traindata, steps_per_epoch=traindata.samples//traindata.batch_size, validation_data=testdata, \n",
    "                 class_weight=class_weights, validation_steps=testdata.samples//testdata.batch_size, \n",
    "                 epochs=110,callbacks=[checkpoint,early])"
   ]
  },
  {
   "cell_type": "markdown",
   "metadata": {},
   "source": [
    "And lastly we want to visualise how our model is learning. Plot the loss, accuracy, and mae as follows:"
   ]
  },
  {
   "cell_type": "code",
   "execution_count": 13,
   "metadata": {},
   "outputs": [
    {
     "data": {
      "image/png": "[encoded data removed]",
      "text/plain": [
       "<Figure size 432x288 with 1 Axes>"
      ]
     },
     "metadata": {
      "needs_background": "light"
     },
     "output_type": "display_data"
    },
    {
     "data": {
      "image/png": "[encoded data removed]",
      "text/plain": [
       "<Figure size 432x288 with 1 Axes>"
      ]
     },
     "metadata": {
      "needs_background": "light"
     },
     "output_type": "display_data"
    },
    {
     "data": {
      "image/png": "[encoded data removed]",
      "text/plain": [
       "<Figure size 432x288 with 1 Axes>"
      ]
     },
     "metadata": {
      "needs_background": "light"
     },
     "output_type": "display_data"
    }
   ],
   "source": [
    "plt.plot(hist.history['loss'], label='train')\n",
    "plt.plot(hist.history['val_loss'], label='val')\n",
    "plt.title('VGG16 COVID: Training and Validation Loss (0.000001 = Adam LR)')\n",
    "plt.xlabel('# of Epochs')\n",
    "plt.ylabel('Loss')\n",
    "plt.legend();\n",
    "plt.savefig('covidVGG16loss.png')\n",
    "plt.show()\n",
    "\n",
    "\n",
    "plt.plot(hist.history['accuracy'], label='train')\n",
    "plt.plot(hist.history['val_accuracy'], label='val')\n",
    "plt.title('VGG16 COVID: Training and Validation Accuracy (0.000001 = Adam LR)')\n",
    "plt.xlabel('# of Epochs')\n",
    "plt.ylabel('Accuracy')\n",
    "plt.legend();\n",
    "plt.savefig('covidVGG16accuracy.png')\n",
    "plt.show()\n",
    "\n",
    "\n",
    "plt.plot(hist.history['mae'], label='train')\n",
    "plt.plot(hist.history['val_mae'], label='val')\n",
    "plt.title('VGG16 COVID: Training and Validation MAE (0.000001 = Adam LR)')\n",
    "plt.xlabel('# of Epochs')\n",
    "plt.ylabel('Mean Absolute Error')\n",
    "plt.legend();\n",
    "plt.savefig('covidVGG16mae.png')\n",
    "plt.show()"
   ]
  },
  {
   "cell_type": "markdown",
   "metadata": {},
   "source": [
    "We see that slowly but surely our model is learning our data. Validation accuracy is increasing steadily while mean absolute error is decreasing. However, we should be aware that loss is increasing. In this context, but maybe we can just ditch loss since we are already looking at mae.\n",
    "\n",
    "And that's that! If you're following this series, thank you so much! Please upvote if this helped you in any way.\n"
   ]
  },
  {
   "cell_type": "code",
   "execution_count": 15,
   "metadata": {},
   "outputs": [],
   "source": [
    "import numpy as np\n",
    "Y_pred = model.predict(testdata)\n",
    "y_pred = np.argmax(Y_pred, axis = 1)"
   ]
  },
  {
   "cell_type": "code",
   "execution_count": 28,
   "metadata": {},
   "outputs": [],
   "source": [
    "from sklearn.metrics import classification_report, confusion_matrix, accuracy_score, ConfusionMatrixDisplay"
   ]
  },
  {
   "cell_type": "code",
   "execution_count": 19,
   "metadata": {},
   "outputs": [],
   "source": [
    "cm = confusion_matrix(testdata.classes,y_pred)"
   ]
  },
  {
   "cell_type": "code",
   "execution_count": 30,
   "metadata": {},
   "outputs": [
    {
     "data": {
      "text/plain": [
       "<sklearn.metrics._plot.confusion_matrix.ConfusionMatrixDisplay at 0x2ab3c3fbc8b0>"
      ]
     },
     "execution_count": 30,
     "metadata": {},
     "output_type": "execute_result"
    },
    {
     "data": {
      "image/png": "[encoded data removed]",
      "text/plain": [
       "<Figure size 432x288 with 2 Axes>"
      ]
     },
     "metadata": {
      "needs_background": "light"
     },
     "output_type": "display_data"
    }
   ],
   "source": [
    "disp = ConfusionMatrixDisplay(confusion_matrix=cm, display_labels = ['COVID','Healthy'])\n",
    "disp.plot()"
   ]
  },
  {
   "cell_type": "code",
   "execution_count": null,
   "metadata": {},
   "outputs": [],
   "source": []
  },
  {
   "cell_type": "code",
   "execution_count": null,
   "metadata": {},
   "outputs": [],
   "source": []
  }
 ],
 "metadata": {
  "kernelspec": {
   "display_name": "Python 3",
   "language": "python",
   "name": "python3"
  },
  "language_info": {
   "codemirror_mode": {
    "name": "ipython",
    "version": 3
   },
   "file_extension": ".py",
   "mimetype": "text/x-python",
   "name": "python",
   "nbconvert_exporter": "python",
   "pygments_lexer": "ipython3",
   "version": "3.8.10"
  }
 },
 "nbformat": 4,
 "nbformat_minor": 1
}
