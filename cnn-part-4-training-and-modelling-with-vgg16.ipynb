{
 "cells": [
  {
   "cell_type": "markdown",
   "metadata": {},
   "source": [
    "This is the final part of my CNN series for detecting respiratory diseases using respiratory sound. On this kernel, we use the images created from audio to feed to a convolutional 2d model, in this case, I'm using VGG16.\n",
    "\n",
    "If you missed out on how we manipulate and transformed out data, you can look through these kernels:\n",
    "- Part 1: [Slice audio into subslices based on the txt files](https://www.kaggle.com/danaelisanicolas/cnn-part-1-create-subslices-for-each-sound)\n",
    "- Part 2: [Splitting to train and test](https://www.kaggle.com/danaelisanicolas/cnn-part-2-split-to-train-and-test)\n",
    "- Part 3: [Convert audio to spectrogram images](https://www.kaggle.com/danaelisanicolas/cnn-part-3-create-spectrogram-images)\n",
    "\n",
    "Without further adeu, let's start!"
   ]
  },
  {
   "cell_type": "code",
   "execution_count": 1,
   "metadata": {},
   "outputs": [
    {
     "name": "stdout",
     "output_type": "stream",
     "text": [
      "respiratory-sound-database  specimages\r\n"
     ]
    }
   ],
   "source": [
    "!ls '../input'"
   ]
  },
  {
   "cell_type": "markdown",
   "metadata": {},
   "source": [
    "Import the necessary libraries. Here we're using TensorFlow Keras. Again as mentioned, we'll use VGG16."
   ]
  },
  {
   "cell_type": "code",
   "execution_count": 2,
   "metadata": {
    "_cell_guid": "b1076dfc-b9ad-4769-8c92-a6c4dae69d19",
    "_uuid": "8f2839f25d086af736a60e9eeb907d3b93b6e0e5"
   },
   "outputs": [],
   "source": [
    "from tensorflow.keras.applications.vgg16 import VGG16\n",
    "from tensorflow.keras.applications.vgg16 import preprocess_input\n",
    "from tensorflow.keras.models import Model, Sequential\n",
    "from tensorflow.keras.preprocessing.image import ImageDataGenerator\n",
    "from tensorflow.keras.optimizers import Adam\n",
    "from tensorflow.keras.layers import Dense, Conv2D, MaxPool2D , Flatten\n",
    "from tensorflow.keras.losses import categorical_crossentropy\n",
    "from tensorflow.keras.callbacks import ModelCheckpoint, EarlyStopping\n",
    "from tensorflow.keras import metrics\n",
    "\n",
    "from sklearn.utils import class_weight\n",
    "from collections import Counter\n",
    "\n",
    "import matplotlib.pyplot as plt\n",
    "\n",
    "from os import listdir\n",
    "from os.path import isfile, join\n",
    "\n",
    "import pandas as pd"
   ]
  },
  {
   "cell_type": "code",
   "execution_count": 3,
   "metadata": {
    "_cell_guid": "79c7e3d0-c299-4dcb-8224-4455121ee9b0",
    "_uuid": "d629ff2d2480ee46fbb7e2d37f6b5fab8052498a"
   },
   "outputs": [],
   "source": [
    "train_loc = '../input/specimages/train_test_split/train/'\n",
    "test_loc = '../input/specimages/train_test_split/val/'"
   ]
  },
  {
   "cell_type": "markdown",
   "metadata": {},
   "source": [
    "Load the train and test data using ImageDataGenerator flow_from_directory. Target size set to 224x224 given that this is the input requirement of VGG16."
   ]
  },
  {
   "cell_type": "code",
   "execution_count": 4,
   "metadata": {},
   "outputs": [
    {
     "name": "stdout",
     "output_type": "stream",
     "text": [
      "Found 5515 images belonging to 8 classes.\n",
      "Found 1383 images belonging to 8 classes.\n"
     ]
    }
   ],
   "source": [
    "trdata = ImageDataGenerator()\n",
    "traindata = trdata.flow_from_directory(directory=train_loc, target_size=(224,224))\n",
    "tsdata = ImageDataGenerator()\n",
    "testdata = tsdata.flow_from_directory(directory=test_loc, target_size=(224,224))"
   ]
  },
  {
   "cell_type": "code",
   "execution_count": 5,
   "metadata": {},
   "outputs": [
    {
     "data": {
      "text/html": [
       "<div>\n",
       "<style scoped>\n",
       "    .dataframe tbody tr th:only-of-type {\n",
       "        vertical-align: middle;\n",
       "    }\n",
       "\n",
       "    .dataframe tbody tr th {\n",
       "        vertical-align: top;\n",
       "    }\n",
       "\n",
       "    .dataframe thead th {\n",
       "        text-align: right;\n",
       "    }\n",
       "</style>\n",
       "<table border=\"1\" class=\"dataframe\">\n",
       "  <thead>\n",
       "    <tr style=\"text-align: right;\">\n",
       "      <th></th>\n",
       "      <th>pId</th>\n",
       "      <th>diagnosis</th>\n",
       "    </tr>\n",
       "  </thead>\n",
       "  <tbody>\n",
       "    <tr>\n",
       "      <th>0</th>\n",
       "      <td>101</td>\n",
       "      <td>URTI</td>\n",
       "    </tr>\n",
       "    <tr>\n",
       "      <th>1</th>\n",
       "      <td>102</td>\n",
       "      <td>Healthy</td>\n",
       "    </tr>\n",
       "    <tr>\n",
       "      <th>2</th>\n",
       "      <td>103</td>\n",
       "      <td>Asthma</td>\n",
       "    </tr>\n",
       "    <tr>\n",
       "      <th>3</th>\n",
       "      <td>104</td>\n",
       "      <td>COPD</td>\n",
       "    </tr>\n",
       "    <tr>\n",
       "      <th>4</th>\n",
       "      <td>105</td>\n",
       "      <td>URTI</td>\n",
       "    </tr>\n",
       "  </tbody>\n",
       "</table>\n",
       "</div>"
      ],
      "text/plain": [
       "   pId diagnosis\n",
       "0  101      URTI\n",
       "1  102   Healthy\n",
       "2  103    Asthma\n",
       "3  104      COPD\n",
       "4  105      URTI"
      ]
     },
     "execution_count": 5,
     "metadata": {},
     "output_type": "execute_result"
    }
   ],
   "source": [
    "diagnosis_csv = '../input/respiratory-sound-database/respiratory_sound_database/Respiratory_Sound_Database/patient_diagnosis.csv'\n",
    "diagnosis = pd.read_csv(diagnosis_csv, names=['pId', 'diagnosis'])\n",
    "diagnosis.head()"
   ]
  },
  {
   "cell_type": "code",
   "execution_count": 6,
   "metadata": {},
   "outputs": [
    {
     "data": {
      "text/plain": [
       "array(['URTI', 'Healthy', 'Asthma', 'COPD', 'LRTI', 'Bronchiectasis',\n",
       "       'Pneumonia', 'Bronchiolitis'], dtype=object)"
      ]
     },
     "execution_count": 6,
     "metadata": {},
     "output_type": "execute_result"
    }
   ],
   "source": [
    "categories = diagnosis['diagnosis'].unique()\n",
    "categories"
   ]
  },
  {
   "cell_type": "markdown",
   "metadata": {},
   "source": [
    "Use the weights from imagenet to get the pretrained model. The prediction is set to 8 output because we have 8 classes."
   ]
  },
  {
   "cell_type": "code",
   "execution_count": 7,
   "metadata": {},
   "outputs": [
    {
     "name": "stdout",
     "output_type": "stream",
     "text": [
      "Downloading data from https://github.com/fchollet/deep-learning-models/releases/download/v0.1/vgg16_weights_tf_dim_ordering_tf_kernels.h5\n",
      "553467904/553467096 [==============================] - 14s 0us/step\n",
      "Model: \"vgg16\"\n",
      "_________________________________________________________________\n",
      "Layer (type)                 Output Shape              Param #   \n",
      "=================================================================\n",
      "input_1 (InputLayer)         [(None, 224, 224, 3)]     0         \n",
      "_________________________________________________________________\n",
      "block1_conv1 (Conv2D)        (None, 224, 224, 64)      1792      \n",
      "_________________________________________________________________\n",
      "block1_conv2 (Conv2D)        (None, 224, 224, 64)      36928     \n",
      "_________________________________________________________________\n",
      "block1_pool (MaxPooling2D)   (None, 112, 112, 64)      0         \n",
      "_________________________________________________________________\n",
      "block2_conv1 (Conv2D)        (None, 112, 112, 128)     73856     \n",
      "_________________________________________________________________\n",
      "block2_conv2 (Conv2D)        (None, 112, 112, 128)     147584    \n",
      "_________________________________________________________________\n",
      "block2_pool (MaxPooling2D)   (None, 56, 56, 128)       0         \n",
      "_________________________________________________________________\n",
      "block3_conv1 (Conv2D)        (None, 56, 56, 256)       295168    \n",
      "_________________________________________________________________\n",
      "block3_conv2 (Conv2D)        (None, 56, 56, 256)       590080    \n",
      "_________________________________________________________________\n",
      "block3_conv3 (Conv2D)        (None, 56, 56, 256)       590080    \n",
      "_________________________________________________________________\n",
      "block3_pool (MaxPooling2D)   (None, 28, 28, 256)       0         \n",
      "_________________________________________________________________\n",
      "block4_conv1 (Conv2D)        (None, 28, 28, 512)       1180160   \n",
      "_________________________________________________________________\n",
      "block4_conv2 (Conv2D)        (None, 28, 28, 512)       2359808   \n",
      "_________________________________________________________________\n",
      "block4_conv3 (Conv2D)        (None, 28, 28, 512)       2359808   \n",
      "_________________________________________________________________\n",
      "block4_pool (MaxPooling2D)   (None, 14, 14, 512)       0         \n",
      "_________________________________________________________________\n",
      "block5_conv1 (Conv2D)        (None, 14, 14, 512)       2359808   \n",
      "_________________________________________________________________\n",
      "block5_conv2 (Conv2D)        (None, 14, 14, 512)       2359808   \n",
      "_________________________________________________________________\n",
      "block5_conv3 (Conv2D)        (None, 14, 14, 512)       2359808   \n",
      "_________________________________________________________________\n",
      "block5_pool (MaxPooling2D)   (None, 7, 7, 512)         0         \n",
      "_________________________________________________________________\n",
      "flatten (Flatten)            (None, 25088)             0         \n",
      "_________________________________________________________________\n",
      "fc1 (Dense)                  (None, 4096)              102764544 \n",
      "_________________________________________________________________\n",
      "fc2 (Dense)                  (None, 4096)              16781312  \n",
      "_________________________________________________________________\n",
      "predictions (Dense)          (None, 1000)              4097000   \n",
      "=================================================================\n",
      "Total params: 138,357,544\n",
      "Trainable params: 138,357,544\n",
      "Non-trainable params: 0\n",
      "_________________________________________________________________\n"
     ]
    }
   ],
   "source": [
    "vgg16 = VGG16(weights='imagenet')\n",
    "vgg16.summary()\n",
    "\n",
    "x  = vgg16.get_layer('fc2').output\n",
    "prediction = Dense(8, activation='softmax', name='predictions')(x)\n",
    "\n",
    "model = Model(inputs=vgg16.input, outputs=prediction)"
   ]
  },
  {
   "cell_type": "markdown",
   "metadata": {},
   "source": [
    "Now consider that normally, imagenet is recognising objects. We have spectrogram images which has signals. So we set 20 out of 23 layers to trainable."
   ]
  },
  {
   "cell_type": "code",
   "execution_count": 8,
   "metadata": {},
   "outputs": [
    {
     "name": "stdout",
     "output_type": "stream",
     "text": [
      "Layer 'block1_pool' is trainable\n",
      "Layer 'block2_conv1' is trainable\n",
      "Layer 'block2_conv2' is trainable\n",
      "Layer 'block2_pool' is trainable\n",
      "Layer 'block3_conv1' is trainable\n",
      "Layer 'block3_conv2' is trainable\n",
      "Layer 'block3_conv3' is trainable\n",
      "Layer 'block3_pool' is trainable\n",
      "Layer 'block4_conv1' is trainable\n",
      "Layer 'block4_conv2' is trainable\n",
      "Layer 'block4_conv3' is trainable\n",
      "Layer 'block4_pool' is trainable\n",
      "Layer 'block5_conv1' is trainable\n",
      "Layer 'block5_conv2' is trainable\n",
      "Layer 'block5_conv3' is trainable\n",
      "Layer 'block5_pool' is trainable\n",
      "Layer 'flatten' is trainable\n",
      "Layer 'fc1' is trainable\n",
      "Layer 'fc2' is trainable\n",
      "Layer 'predictions' is trainable\n"
     ]
    }
   ],
   "source": [
    "for layer in model.layers:\n",
    "    layer.trainable = False\n",
    "\n",
    "for layer in model.layers[-20:]:\n",
    "    layer.trainable = True\n",
    "    print(\"Layer '%s' is trainable\" % layer.name)  "
   ]
  },
  {
   "cell_type": "markdown",
   "metadata": {},
   "source": [
    "Use Adam as our optimiser and set the learning rate to 0.000001 because again we're trying to recognise signals. Additionally it's not a normal sound wave either cause we're using breathing sounds. So the model has to be very sensitive to small details."
   ]
  },
  {
   "cell_type": "code",
   "execution_count": 9,
   "metadata": {},
   "outputs": [
    {
     "name": "stdout",
     "output_type": "stream",
     "text": [
      "Model: \"model\"\n",
      "_________________________________________________________________\n",
      "Layer (type)                 Output Shape              Param #   \n",
      "=================================================================\n",
      "input_1 (InputLayer)         [(None, 224, 224, 3)]     0         \n",
      "_________________________________________________________________\n",
      "block1_conv1 (Conv2D)        (None, 224, 224, 64)      1792      \n",
      "_________________________________________________________________\n",
      "block1_conv2 (Conv2D)        (None, 224, 224, 64)      36928     \n",
      "_________________________________________________________________\n",
      "block1_pool (MaxPooling2D)   (None, 112, 112, 64)      0         \n",
      "_________________________________________________________________\n",
      "block2_conv1 (Conv2D)        (None, 112, 112, 128)     73856     \n",
      "_________________________________________________________________\n",
      "block2_conv2 (Conv2D)        (None, 112, 112, 128)     147584    \n",
      "_________________________________________________________________\n",
      "block2_pool (MaxPooling2D)   (None, 56, 56, 128)       0         \n",
      "_________________________________________________________________\n",
      "block3_conv1 (Conv2D)        (None, 56, 56, 256)       295168    \n",
      "_________________________________________________________________\n",
      "block3_conv2 (Conv2D)        (None, 56, 56, 256)       590080    \n",
      "_________________________________________________________________\n",
      "block3_conv3 (Conv2D)        (None, 56, 56, 256)       590080    \n",
      "_________________________________________________________________\n",
      "block3_pool (MaxPooling2D)   (None, 28, 28, 256)       0         \n",
      "_________________________________________________________________\n",
      "block4_conv1 (Conv2D)        (None, 28, 28, 512)       1180160   \n",
      "_________________________________________________________________\n",
      "block4_conv2 (Conv2D)        (None, 28, 28, 512)       2359808   \n",
      "_________________________________________________________________\n",
      "block4_conv3 (Conv2D)        (None, 28, 28, 512)       2359808   \n",
      "_________________________________________________________________\n",
      "block4_pool (MaxPooling2D)   (None, 14, 14, 512)       0         \n",
      "_________________________________________________________________\n",
      "block5_conv1 (Conv2D)        (None, 14, 14, 512)       2359808   \n",
      "_________________________________________________________________\n",
      "block5_conv2 (Conv2D)        (None, 14, 14, 512)       2359808   \n",
      "_________________________________________________________________\n",
      "block5_conv3 (Conv2D)        (None, 14, 14, 512)       2359808   \n",
      "_________________________________________________________________\n",
      "block5_pool (MaxPooling2D)   (None, 7, 7, 512)         0         \n",
      "_________________________________________________________________\n",
      "flatten (Flatten)            (None, 25088)             0         \n",
      "_________________________________________________________________\n",
      "fc1 (Dense)                  (None, 4096)              102764544 \n",
      "_________________________________________________________________\n",
      "fc2 (Dense)                  (None, 4096)              16781312  \n",
      "_________________________________________________________________\n",
      "predictions (Dense)          (None, 8)                 32776     \n",
      "=================================================================\n",
      "Total params: 134,293,320\n",
      "Trainable params: 134,254,600\n",
      "Non-trainable params: 38,720\n",
      "_________________________________________________________________\n"
     ]
    }
   ],
   "source": [
    "opt = Adam(lr=0.000001)\n",
    "model.compile(optimizer=opt, loss=categorical_crossentropy, \n",
    "              metrics=['accuracy', 'mae'])\n",
    "model.summary()"
   ]
  },
  {
   "cell_type": "markdown",
   "metadata": {},
   "source": [
    "Now we also want to save the model if the validation accuracy improved. However, we don't want to waste computational resource if we're seeing the lack of improvement after 20 epochs.\n",
    "\n",
    "We then define the checkpoint and early stopping for our model."
   ]
  },
  {
   "cell_type": "code",
   "execution_count": 10,
   "metadata": {},
   "outputs": [],
   "source": [
    "checkpoint = ModelCheckpoint(\"vgg16_base_res.h5\", monitor='val_accuracy', verbose=1, \n",
    "                             save_best_only=True, save_weights_only=False, mode='auto')\n",
    "early = EarlyStopping(monitor='val_accuracy', min_delta=0, patience=20, verbose=1, mode='auto')"
   ]
  },
  {
   "cell_type": "markdown",
   "metadata": {},
   "source": [
    "Now, considering our data is imbalanced, we need to compute the class weight for each category/class."
   ]
  },
  {
   "cell_type": "code",
   "execution_count": 11,
   "metadata": {},
   "outputs": [
    {
     "data": {
      "text/plain": [
       "{0: 1149.0,\n",
       " 1: 55.373493975903614,\n",
       " 2: 35.90625,\n",
       " 3: 1.0,\n",
       " 4: 17.883268482490273,\n",
       " 5: 183.84,\n",
       " 6: 20.157894736842106,\n",
       " 7: 23.690721649484537}"
      ]
     },
     "execution_count": 11,
     "metadata": {},
     "output_type": "execute_result"
    }
   ],
   "source": [
    "counter = Counter(traindata.classes)                       \n",
    "max_val = float(max(counter.values()))   \n",
    "class_weights = {class_id : max_val/num_images for class_id, num_images in counter.items()}\n",
    "class_weights"
   ]
  },
  {
   "cell_type": "markdown",
   "metadata": {},
   "source": [
    "Finally everything's set, let's start training!\n",
    "\n",
    "Notice that steps_per_epoch and validation_steps were calculated instead of just simply setting a random value. The reason is we need to see the optimal way to getting these values. We calculate this by dividing samples / batch_size."
   ]
  },
  {
   "cell_type": "code",
   "execution_count": 12,
   "metadata": {},
   "outputs": [
    {
     "name": "stdout",
     "output_type": "stream",
     "text": [
      "Train for 172 steps, validate for 43 steps\n",
      "Epoch 1/110\n",
      "171/172 [============================>.] - ETA: 0s - loss: 12.9738 - accuracy: 0.2682 - mae: 0.1975\n",
      "Epoch 00001: val_accuracy improved from -inf to 0.54942, saving model to vgg16_base_res.h5\n",
      "172/172 [==============================] - 92s 533ms/step - loss: 12.9529 - accuracy: 0.2697 - mae: 0.1973 - val_loss: 12.1128 - val_accuracy: 0.5494 - val_mae: 0.1703\n",
      "Epoch 2/110\n",
      "171/172 [============================>.] - ETA: 0s - loss: 10.0684 - accuracy: 0.3089 - mae: 0.1778\n",
      "Epoch 00002: val_accuracy did not improve from 0.54942\n",
      "172/172 [==============================] - 69s 400ms/step - loss: 10.0493 - accuracy: 0.3099 - mae: 0.1777 - val_loss: 11.0925 - val_accuracy: 0.4906 - val_mae: 0.1575\n",
      "Epoch 3/110\n",
      "171/172 [============================>.] - ETA: 0s - loss: 8.6810 - accuracy: 0.3625 - mae: 0.1638\n",
      "Epoch 00003: val_accuracy did not improve from 0.54942\n",
      "172/172 [==============================] - 67s 391ms/step - loss: 8.6569 - accuracy: 0.3622 - mae: 0.1638 - val_loss: 12.3680 - val_accuracy: 0.3706 - val_mae: 0.1584\n",
      "Epoch 4/110\n",
      "171/172 [============================>.] - ETA: 0s - loss: 8.2537 - accuracy: 0.4249 - mae: 0.1545\n",
      "Epoch 00004: val_accuracy did not improve from 0.54942\n",
      "172/172 [==============================] - 68s 393ms/step - loss: 8.2285 - accuracy: 0.4244 - mae: 0.1545 - val_loss: 11.6364 - val_accuracy: 0.3452 - val_mae: 0.1574\n",
      "Epoch 5/110\n",
      "171/172 [============================>.] - ETA: 0s - loss: 7.6493 - accuracy: 0.4696 - mae: 0.1452\n",
      "Epoch 00005: val_accuracy did not improve from 0.54942\n",
      "172/172 [==============================] - 67s 391ms/step - loss: 7.6797 - accuracy: 0.4696 - mae: 0.1453 - val_loss: 12.0396 - val_accuracy: 0.4971 - val_mae: 0.1418\n",
      "Epoch 6/110\n",
      "171/172 [============================>.] - ETA: 0s - loss: 7.1055 - accuracy: 0.5183 - mae: 0.1373\n",
      "Epoch 00006: val_accuracy did not improve from 0.54942\n",
      "172/172 [==============================] - 68s 395ms/step - loss: 7.0933 - accuracy: 0.5163 - mae: 0.1375 - val_loss: 13.5797 - val_accuracy: 0.3379 - val_mae: 0.1546\n",
      "Epoch 7/110\n",
      "171/172 [============================>.] - ETA: 0s - loss: 6.9279 - accuracy: 0.5324 - mae: 0.1332\n",
      "Epoch 00007: val_accuracy did not improve from 0.54942\n",
      "172/172 [==============================] - 68s 394ms/step - loss: 6.9207 - accuracy: 0.5313 - mae: 0.1333 - val_loss: 13.1746 - val_accuracy: 0.3481 - val_mae: 0.1539\n",
      "Epoch 8/110\n",
      "171/172 [============================>.] - ETA: 0s - loss: 6.5350 - accuracy: 0.5592 - mae: 0.1281\n",
      "Epoch 00008: val_accuracy improved from 0.54942 to 0.56613, saving model to vgg16_base_res.h5\n",
      "172/172 [==============================] - 71s 414ms/step - loss: 6.5557 - accuracy: 0.5585 - mae: 0.1282 - val_loss: 15.8165 - val_accuracy: 0.5661 - val_mae: 0.1264\n",
      "Epoch 9/110\n",
      "171/172 [============================>.] - ETA: 0s - loss: 6.4603 - accuracy: 0.5784 - mae: 0.1245\n",
      "Epoch 00009: val_accuracy improved from 0.56613 to 0.56831, saving model to vgg16_base_res.h5\n",
      "172/172 [==============================] - 72s 418ms/step - loss: 6.4580 - accuracy: 0.5789 - mae: 0.1245 - val_loss: 12.8651 - val_accuracy: 0.5683 - val_mae: 0.1295\n",
      "Epoch 10/110\n",
      "171/172 [============================>.] - ETA: 0s - loss: 6.2155 - accuracy: 0.6008 - mae: 0.1206\n",
      "Epoch 00010: val_accuracy did not improve from 0.56831\n",
      "172/172 [==============================] - 68s 392ms/step - loss: 6.2034 - accuracy: 0.6006 - mae: 0.1207 - val_loss: 15.6773 - val_accuracy: 0.5494 - val_mae: 0.1264\n",
      "Epoch 11/110\n",
      "171/172 [============================>.] - ETA: 0s - loss: 6.0437 - accuracy: 0.6243 - mae: 0.1165\n",
      "Epoch 00011: val_accuracy improved from 0.56831 to 0.66497, saving model to vgg16_base_res.h5\n",
      "172/172 [==============================] - 71s 413ms/step - loss: 6.0324 - accuracy: 0.6252 - mae: 0.1164 - val_loss: 16.0964 - val_accuracy: 0.6650 - val_mae: 0.1107\n",
      "Epoch 12/110\n",
      "171/172 [============================>.] - ETA: 0s - loss: 5.6641 - accuracy: 0.6307 - mae: 0.1135\n",
      "Epoch 00012: val_accuracy did not improve from 0.66497\n",
      "172/172 [==============================] - 68s 395ms/step - loss: 5.6667 - accuracy: 0.6303 - mae: 0.1135 - val_loss: 17.2446 - val_accuracy: 0.5836 - val_mae: 0.1195\n",
      "Epoch 13/110\n",
      "171/172 [============================>.] - ETA: 0s - loss: 5.4063 - accuracy: 0.6584 - mae: 0.1072\n",
      "Epoch 00013: val_accuracy did not improve from 0.66497\n",
      "172/172 [==============================] - 68s 394ms/step - loss: 5.4056 - accuracy: 0.6582 - mae: 0.1072 - val_loss: 15.1968 - val_accuracy: 0.6265 - val_mae: 0.1163\n",
      "Epoch 14/110\n",
      "171/172 [============================>.] - ETA: 0s - loss: 5.1605 - accuracy: 0.6762 - mae: 0.1035\n",
      "Epoch 00014: val_accuracy improved from 0.66497 to 0.69767, saving model to vgg16_base_res.h5\n",
      "172/172 [==============================] - 71s 414ms/step - loss: 5.1465 - accuracy: 0.6763 - mae: 0.1034 - val_loss: 16.8513 - val_accuracy: 0.6977 - val_mae: 0.1000\n",
      "Epoch 15/110\n",
      "171/172 [============================>.] - ETA: 0s - loss: 5.0593 - accuracy: 0.6958 - mae: 0.0998\n",
      "Epoch 00015: val_accuracy did not improve from 0.69767\n",
      "172/172 [==============================] - 67s 391ms/step - loss: 5.0356 - accuracy: 0.6949 - mae: 0.1000 - val_loss: 19.4598 - val_accuracy: 0.6083 - val_mae: 0.1115\n",
      "Epoch 16/110\n",
      "171/172 [============================>.] - ETA: 0s - loss: 4.7121 - accuracy: 0.7072 - mae: 0.0959\n",
      "Epoch 00016: val_accuracy improved from 0.69767 to 0.69913, saving model to vgg16_base_res.h5\n",
      "172/172 [==============================] - 71s 414ms/step - loss: 4.7015 - accuracy: 0.7084 - mae: 0.0957 - val_loss: 18.1422 - val_accuracy: 0.6991 - val_mae: 0.0978\n",
      "Epoch 17/110\n",
      "171/172 [============================>.] - ETA: 0s - loss: 4.3651 - accuracy: 0.7378 - mae: 0.0894\n",
      "Epoch 00017: val_accuracy did not improve from 0.69913\n",
      "172/172 [==============================] - 67s 392ms/step - loss: 4.3666 - accuracy: 0.7366 - mae: 0.0895 - val_loss: 19.5067 - val_accuracy: 0.5705 - val_mae: 0.1193\n",
      "Epoch 18/110\n",
      "171/172 [============================>.] - ETA: 0s - loss: 4.2786 - accuracy: 0.7360 - mae: 0.0885\n",
      "Epoch 00018: val_accuracy improved from 0.69913 to 0.74055, saving model to vgg16_base_res.h5\n",
      "172/172 [==============================] - 71s 415ms/step - loss: 4.2744 - accuracy: 0.7363 - mae: 0.0884 - val_loss: 21.5336 - val_accuracy: 0.7406 - val_mae: 0.0841\n",
      "Epoch 19/110\n",
      "171/172 [============================>.] - ETA: 0s - loss: 3.9776 - accuracy: 0.7578 - mae: 0.0824\n",
      "Epoch 00019: val_accuracy did not improve from 0.74055\n",
      "172/172 [==============================] - 68s 395ms/step - loss: 3.9655 - accuracy: 0.7582 - mae: 0.0824 - val_loss: 21.3730 - val_accuracy: 0.6701 - val_mae: 0.0997\n",
      "Epoch 20/110\n",
      "171/172 [============================>.] - ETA: 0s - loss: 3.7512 - accuracy: 0.7813 - mae: 0.0782\n",
      "Epoch 00020: val_accuracy did not improve from 0.74055\n",
      "172/172 [==============================] - 67s 391ms/step - loss: 3.7745 - accuracy: 0.7810 - mae: 0.0783 - val_loss: 22.1121 - val_accuracy: 0.7406 - val_mae: 0.0844\n",
      "Epoch 21/110\n",
      "171/172 [============================>.] - ETA: 0s - loss: 3.5697 - accuracy: 0.7815 - mae: 0.0754\n",
      "Epoch 00021: val_accuracy did not improve from 0.74055\n",
      "172/172 [==============================] - 68s 395ms/step - loss: 3.5693 - accuracy: 0.7821 - mae: 0.0753 - val_loss: 23.5385 - val_accuracy: 0.7297 - val_mae: 0.0850\n",
      "Epoch 22/110\n",
      "171/172 [============================>.] - ETA: 0s - loss: 3.3960 - accuracy: 0.7942 - mae: 0.0720\n",
      "Epoch 00022: val_accuracy did not improve from 0.74055\n",
      "172/172 [==============================] - 68s 394ms/step - loss: 3.3803 - accuracy: 0.7939 - mae: 0.0721 - val_loss: 24.7443 - val_accuracy: 0.6991 - val_mae: 0.0898\n",
      "Epoch 23/110\n",
      "171/172 [============================>.] - ETA: 0s - loss: 3.2176 - accuracy: 0.8105 - mae: 0.0681\n",
      "Epoch 00023: val_accuracy did not improve from 0.74055\n",
      "172/172 [==============================] - 68s 396ms/step - loss: 3.2384 - accuracy: 0.8103 - mae: 0.0681 - val_loss: 25.3609 - val_accuracy: 0.7406 - val_mae: 0.0810\n",
      "Epoch 24/110\n",
      "171/172 [============================>.] - ETA: 0s - loss: 3.0915 - accuracy: 0.8136 - mae: 0.0653\n",
      "Epoch 00024: val_accuracy did not improve from 0.74055\n",
      "172/172 [==============================] - 68s 393ms/step - loss: 3.0914 - accuracy: 0.8136 - mae: 0.0653 - val_loss: 26.0143 - val_accuracy: 0.7384 - val_mae: 0.0786\n",
      "Epoch 25/110\n",
      "171/172 [============================>.] - ETA: 0s - loss: 2.8117 - accuracy: 0.8232 - mae: 0.0621\n",
      "Epoch 00025: val_accuracy improved from 0.74055 to 0.74637, saving model to vgg16_base_res.h5\n",
      "172/172 [==============================] - 71s 415ms/step - loss: 2.8061 - accuracy: 0.8229 - mae: 0.0622 - val_loss: 29.4517 - val_accuracy: 0.7464 - val_mae: 0.0754\n",
      "Epoch 26/110\n",
      "171/172 [============================>.] - ETA: 0s - loss: 2.5905 - accuracy: 0.8364 - mae: 0.0582\n",
      "Epoch 00026: val_accuracy improved from 0.74637 to 0.74927, saving model to vgg16_base_res.h5\n",
      "172/172 [==============================] - 72s 419ms/step - loss: 2.5966 - accuracy: 0.8368 - mae: 0.0582 - val_loss: 25.2279 - val_accuracy: 0.7493 - val_mae: 0.0760\n",
      "Epoch 27/110\n",
      "171/172 [============================>.] - ETA: 0s - loss: 2.4810 - accuracy: 0.8404 - mae: 0.0563\n",
      "Epoch 00027: val_accuracy improved from 0.74927 to 0.75799, saving model to vgg16_base_res.h5\n",
      "172/172 [==============================] - 73s 427ms/step - loss: 2.4740 - accuracy: 0.8399 - mae: 0.0563 - val_loss: 29.3428 - val_accuracy: 0.7580 - val_mae: 0.0683\n",
      "Epoch 28/110\n",
      "171/172 [============================>.] - ETA: 0s - loss: 2.4402 - accuracy: 0.8363 - mae: 0.0558\n",
      "Epoch 00028: val_accuracy did not improve from 0.75799\n",
      "172/172 [==============================] - 68s 395ms/step - loss: 2.4416 - accuracy: 0.8367 - mae: 0.0557 - val_loss: 30.8131 - val_accuracy: 0.7362 - val_mae: 0.0756\n",
      "Epoch 29/110\n",
      "171/172 [============================>.] - ETA: 0s - loss: 2.0962 - accuracy: 0.8580 - mae: 0.0508\n",
      "Epoch 00029: val_accuracy did not improve from 0.75799\n",
      "172/172 [==============================] - 67s 392ms/step - loss: 2.0915 - accuracy: 0.8579 - mae: 0.0508 - val_loss: 30.1481 - val_accuracy: 0.7413 - val_mae: 0.0746\n",
      "Epoch 30/110\n",
      "171/172 [============================>.] - ETA: 0s - loss: 2.0727 - accuracy: 0.8584 - mae: 0.0490\n",
      "Epoch 00030: val_accuracy improved from 0.75799 to 0.76235, saving model to vgg16_base_res.h5\n",
      "172/172 [==============================] - 71s 412ms/step - loss: 2.0675 - accuracy: 0.8587 - mae: 0.0489 - val_loss: 31.2068 - val_accuracy: 0.7624 - val_mae: 0.0681\n",
      "Epoch 31/110\n",
      "171/172 [============================>.] - ETA: 0s - loss: 1.8514 - accuracy: 0.8690 - mae: 0.0465\n",
      "Epoch 00031: val_accuracy did not improve from 0.76235\n",
      "172/172 [==============================] - 67s 392ms/step - loss: 1.8564 - accuracy: 0.8687 - mae: 0.0466 - val_loss: 33.9311 - val_accuracy: 0.7522 - val_mae: 0.0689\n",
      "Epoch 32/110\n",
      "171/172 [============================>.] - ETA: 0s - loss: 1.7483 - accuracy: 0.8742 - mae: 0.0442\n",
      "Epoch 00032: val_accuracy improved from 0.76235 to 0.77762, saving model to vgg16_base_res.h5\n",
      "172/172 [==============================] - 72s 421ms/step - loss: 1.7601 - accuracy: 0.8745 - mae: 0.0442 - val_loss: 35.4100 - val_accuracy: 0.7776 - val_mae: 0.0635\n",
      "Epoch 33/110\n",
      "171/172 [============================>.] - ETA: 0s - loss: 1.5690 - accuracy: 0.8830 - mae: 0.0411\n",
      "Epoch 00033: val_accuracy did not improve from 0.77762\n",
      "172/172 [==============================] - 68s 394ms/step - loss: 1.5810 - accuracy: 0.8827 - mae: 0.0412 - val_loss: 36.2663 - val_accuracy: 0.7776 - val_mae: 0.0609\n",
      "Epoch 34/110\n",
      "171/172 [============================>.] - ETA: 0s - loss: 1.4700 - accuracy: 0.8830 - mae: 0.0403\n",
      "Epoch 00034: val_accuracy did not improve from 0.77762\n",
      "172/172 [==============================] - 68s 393ms/step - loss: 1.4652 - accuracy: 0.8831 - mae: 0.0402 - val_loss: 37.4063 - val_accuracy: 0.7696 - val_mae: 0.0617\n",
      "Epoch 35/110\n",
      "171/172 [============================>.] - ETA: 0s - loss: 1.4040 - accuracy: 0.8883 - mae: 0.0386\n",
      "Epoch 00035: val_accuracy improved from 0.77762 to 0.78125, saving model to vgg16_base_res.h5\n",
      "172/172 [==============================] - 71s 415ms/step - loss: 1.4056 - accuracy: 0.8884 - mae: 0.0385 - val_loss: 37.0202 - val_accuracy: 0.7812 - val_mae: 0.0609\n",
      "Epoch 36/110\n",
      "171/172 [============================>.] - ETA: 0s - loss: 1.2013 - accuracy: 0.8969 - mae: 0.0357\n",
      "Epoch 00036: val_accuracy improved from 0.78125 to 0.79215, saving model to vgg16_base_res.h5\n",
      "172/172 [==============================] - 72s 419ms/step - loss: 1.1977 - accuracy: 0.8966 - mae: 0.0358 - val_loss: 39.6170 - val_accuracy: 0.7922 - val_mae: 0.0576\n",
      "Epoch 37/110\n",
      "171/172 [============================>.] - ETA: 0s - loss: 1.2266 - accuracy: 0.8969 - mae: 0.0351\n",
      "Epoch 00037: val_accuracy did not improve from 0.79215\n",
      "172/172 [==============================] - 68s 394ms/step - loss: 1.2259 - accuracy: 0.8964 - mae: 0.0352 - val_loss: 40.4606 - val_accuracy: 0.7827 - val_mae: 0.0586\n",
      "Epoch 38/110\n",
      "171/172 [============================>.] - ETA: 0s - loss: 1.0739 - accuracy: 0.9022 - mae: 0.0332\n",
      "Epoch 00038: val_accuracy did not improve from 0.79215\n",
      "172/172 [==============================] - 69s 401ms/step - loss: 1.0749 - accuracy: 0.9026 - mae: 0.0331 - val_loss: 42.9999 - val_accuracy: 0.7885 - val_mae: 0.0569\n",
      "Epoch 39/110\n",
      "171/172 [============================>.] - ETA: 0s - loss: 0.9583 - accuracy: 0.9090 - mae: 0.0305\n",
      "Epoch 00039: val_accuracy did not improve from 0.79215\n",
      "172/172 [==============================] - 68s 396ms/step - loss: 0.9579 - accuracy: 0.9088 - mae: 0.0305 - val_loss: 41.3120 - val_accuracy: 0.7762 - val_mae: 0.0614\n",
      "Epoch 40/110\n",
      "171/172 [============================>.] - ETA: 0s - loss: 0.9197 - accuracy: 0.9097 - mae: 0.0297\n",
      "Epoch 00040: val_accuracy did not improve from 0.79215\n",
      "172/172 [==============================] - 68s 394ms/step - loss: 0.9220 - accuracy: 0.9099 - mae: 0.0297 - val_loss: 44.5924 - val_accuracy: 0.7914 - val_mae: 0.0557\n",
      "Epoch 41/110\n",
      "171/172 [============================>.] - ETA: 0s - loss: 0.7925 - accuracy: 0.9136 - mae: 0.0282\n",
      "Epoch 00041: val_accuracy did not improve from 0.79215\n",
      "172/172 [==============================] - 68s 396ms/step - loss: 0.7940 - accuracy: 0.9136 - mae: 0.0282 - val_loss: 44.6254 - val_accuracy: 0.7878 - val_mae: 0.0563\n",
      "Epoch 42/110\n",
      "171/172 [============================>.] - ETA: 0s - loss: 0.7239 - accuracy: 0.9200 - mae: 0.0263\n",
      "Epoch 00042: val_accuracy did not improve from 0.79215\n",
      "172/172 [==============================] - 68s 397ms/step - loss: 0.7209 - accuracy: 0.9201 - mae: 0.0263 - val_loss: 46.7942 - val_accuracy: 0.7922 - val_mae: 0.0558\n",
      "Epoch 43/110\n",
      "171/172 [============================>.] - ETA: 0s - loss: 0.6515 - accuracy: 0.9235 - mae: 0.0251\n",
      "Epoch 00043: val_accuracy improved from 0.79215 to 0.79506, saving model to vgg16_base_res.h5\n",
      "172/172 [==============================] - 73s 422ms/step - loss: 0.6550 - accuracy: 0.9234 - mae: 0.0251 - val_loss: 50.2589 - val_accuracy: 0.7951 - val_mae: 0.0521\n",
      "Epoch 44/110\n",
      "171/172 [============================>.] - ETA: 0s - loss: 0.8235 - accuracy: 0.9187 - mae: 0.0265\n",
      "Epoch 00044: val_accuracy did not improve from 0.79506\n",
      "172/172 [==============================] - 70s 406ms/step - loss: 0.8227 - accuracy: 0.9188 - mae: 0.0265 - val_loss: 46.3662 - val_accuracy: 0.7849 - val_mae: 0.0580\n",
      "Epoch 45/110\n",
      "171/172 [============================>.] - ETA: 0s - loss: 1.2974 - accuracy: 0.9063 - mae: 0.0309\n",
      "Epoch 00045: val_accuracy did not improve from 0.79506\n",
      "172/172 [==============================] - 69s 400ms/step - loss: 1.2940 - accuracy: 0.9066 - mae: 0.0308 - val_loss: 42.3030 - val_accuracy: 0.7936 - val_mae: 0.0533\n",
      "Epoch 46/110\n",
      "171/172 [============================>.] - ETA: 0s - loss: 0.8100 - accuracy: 0.9202 - mae: 0.0262\n",
      "Epoch 00046: val_accuracy improved from 0.79506 to 0.79942, saving model to vgg16_base_res.h5\n",
      "172/172 [==============================] - 72s 416ms/step - loss: 0.8078 - accuracy: 0.9205 - mae: 0.0262 - val_loss: 46.2384 - val_accuracy: 0.7994 - val_mae: 0.0533\n",
      "Epoch 47/110\n",
      "171/172 [============================>.] - ETA: 0s - loss: 0.4872 - accuracy: 0.9312 - mae: 0.0219\n",
      "Epoch 00047: val_accuracy did not improve from 0.79942\n",
      "172/172 [==============================] - 68s 395ms/step - loss: 0.4872 - accuracy: 0.9312 - mae: 0.0219 - val_loss: 48.7283 - val_accuracy: 0.7892 - val_mae: 0.0560\n",
      "Epoch 48/110\n",
      "171/172 [============================>.] - ETA: 0s - loss: 0.4470 - accuracy: 0.9362 - mae: 0.0206\n",
      "Epoch 00048: val_accuracy improved from 0.79942 to 0.80015, saving model to vgg16_base_res.h5\n",
      "172/172 [==============================] - 71s 412ms/step - loss: 0.4477 - accuracy: 0.9360 - mae: 0.0206 - val_loss: 52.1812 - val_accuracy: 0.8001 - val_mae: 0.0518\n",
      "Epoch 49/110\n",
      "171/172 [============================>.] - ETA: 0s - loss: 0.3925 - accuracy: 0.9400 - mae: 0.0189\n",
      "Epoch 00049: val_accuracy did not improve from 0.80015\n",
      "172/172 [==============================] - 68s 397ms/step - loss: 0.3919 - accuracy: 0.9398 - mae: 0.0190 - val_loss: 51.5403 - val_accuracy: 0.7972 - val_mae: 0.0532\n",
      "Epoch 50/110\n",
      "171/172 [============================>.] - ETA: 0s - loss: 0.3636 - accuracy: 0.9417 - mae: 0.0185\n",
      "Epoch 00050: val_accuracy did not improve from 0.80015\n",
      "172/172 [==============================] - 68s 394ms/step - loss: 0.3634 - accuracy: 0.9420 - mae: 0.0184 - val_loss: 52.3713 - val_accuracy: 0.8001 - val_mae: 0.0527\n",
      "Epoch 51/110\n",
      "171/172 [============================>.] - ETA: 0s - loss: 0.3575 - accuracy: 0.9424 - mae: 0.0182\n",
      "Epoch 00051: val_accuracy improved from 0.80015 to 0.80669, saving model to vgg16_base_res.h5\n",
      "172/172 [==============================] - 72s 418ms/step - loss: 0.3574 - accuracy: 0.9425 - mae: 0.0181 - val_loss: 56.8720 - val_accuracy: 0.8067 - val_mae: 0.0503\n",
      "Epoch 52/110\n",
      "171/172 [============================>.] - ETA: 0s - loss: 0.3216 - accuracy: 0.9481 - mae: 0.0168\n",
      "Epoch 00052: val_accuracy did not improve from 0.80669\n",
      "172/172 [==============================] - 68s 393ms/step - loss: 0.3246 - accuracy: 0.9478 - mae: 0.0169 - val_loss: 57.3074 - val_accuracy: 0.8045 - val_mae: 0.0504\n",
      "Epoch 53/110\n",
      "171/172 [============================>.] - ETA: 0s - loss: 0.3276 - accuracy: 0.9501 - mae: 0.0164\n",
      "Epoch 00053: val_accuracy did not improve from 0.80669\n",
      "172/172 [==============================] - 68s 394ms/step - loss: 0.3286 - accuracy: 0.9498 - mae: 0.0165 - val_loss: 59.0523 - val_accuracy: 0.8001 - val_mae: 0.0506\n",
      "Epoch 54/110\n",
      "171/172 [============================>.] - ETA: 0s - loss: 0.3816 - accuracy: 0.9450 - mae: 0.0174\n",
      "Epoch 00054: val_accuracy did not improve from 0.80669\n",
      "172/172 [==============================] - 68s 393ms/step - loss: 0.3817 - accuracy: 0.9447 - mae: 0.0174 - val_loss: 58.4932 - val_accuracy: 0.8001 - val_mae: 0.0509\n",
      "Epoch 55/110\n",
      "171/172 [============================>.] - ETA: 0s - loss: 0.2730 - accuracy: 0.9569 - mae: 0.0149\n",
      "Epoch 00055: val_accuracy did not improve from 0.80669\n",
      "172/172 [==============================] - 67s 391ms/step - loss: 0.2724 - accuracy: 0.9566 - mae: 0.0149 - val_loss: 56.6246 - val_accuracy: 0.7958 - val_mae: 0.0536\n",
      "Epoch 56/110\n",
      "171/172 [============================>.] - ETA: 0s - loss: 0.2642 - accuracy: 0.9591 - mae: 0.0143\n",
      "Epoch 00056: val_accuracy did not improve from 0.80669\n",
      "172/172 [==============================] - 67s 392ms/step - loss: 0.2657 - accuracy: 0.9584 - mae: 0.0144 - val_loss: 58.9850 - val_accuracy: 0.7980 - val_mae: 0.0511\n",
      "Epoch 57/110\n",
      "171/172 [============================>.] - ETA: 0s - loss: 0.2481 - accuracy: 0.9584 - mae: 0.0142\n",
      "Epoch 00057: val_accuracy did not improve from 0.80669\n",
      "172/172 [==============================] - 68s 397ms/step - loss: 0.2478 - accuracy: 0.9582 - mae: 0.0143 - val_loss: 60.5609 - val_accuracy: 0.7951 - val_mae: 0.0512\n",
      "Epoch 58/110\n",
      "171/172 [============================>.] - ETA: 0s - loss: 0.2413 - accuracy: 0.9639 - mae: 0.0130\n",
      "Epoch 00058: val_accuracy did not improve from 0.80669\n",
      "172/172 [==============================] - 68s 397ms/step - loss: 0.2423 - accuracy: 0.9635 - mae: 0.0131 - val_loss: 58.8289 - val_accuracy: 0.7958 - val_mae: 0.0523\n",
      "Epoch 59/110\n",
      "171/172 [============================>.] - ETA: 0s - loss: 0.9535 - accuracy: 0.9279 - mae: 0.0224\n",
      "Epoch 00059: val_accuracy did not improve from 0.80669\n",
      "172/172 [==============================] - 68s 397ms/step - loss: 0.9552 - accuracy: 0.9278 - mae: 0.0225 - val_loss: 42.0051 - val_accuracy: 0.7587 - val_mae: 0.0652\n",
      "Epoch 60/110\n",
      "171/172 [============================>.] - ETA: 0s - loss: 0.6530 - accuracy: 0.9211 - mae: 0.0246\n",
      "Epoch 00060: val_accuracy did not improve from 0.80669\n",
      "172/172 [==============================] - 68s 393ms/step - loss: 0.6503 - accuracy: 0.9216 - mae: 0.0245 - val_loss: 51.9595 - val_accuracy: 0.7987 - val_mae: 0.0521\n",
      "Epoch 61/110\n",
      "171/172 [============================>.] - ETA: 0s - loss: 0.2400 - accuracy: 0.9618 - mae: 0.0140\n",
      "Epoch 00061: val_accuracy did not improve from 0.80669\n",
      "172/172 [==============================] - 68s 395ms/step - loss: 0.2396 - accuracy: 0.9617 - mae: 0.0140 - val_loss: 57.1859 - val_accuracy: 0.8001 - val_mae: 0.0502\n",
      "Epoch 62/110\n",
      "171/172 [============================>.] - ETA: 0s - loss: 0.1831 - accuracy: 0.9694 - mae: 0.0116\n",
      "Epoch 00062: val_accuracy did not improve from 0.80669\n",
      "172/172 [==============================] - 67s 392ms/step - loss: 0.1833 - accuracy: 0.9694 - mae: 0.0116 - val_loss: 59.1391 - val_accuracy: 0.8023 - val_mae: 0.0504\n",
      "Epoch 63/110\n",
      "171/172 [============================>.] - ETA: 0s - loss: 0.1575 - accuracy: 0.9714 - mae: 0.0108\n",
      "Epoch 00063: val_accuracy did not improve from 0.80669\n",
      "172/172 [==============================] - 67s 391ms/step - loss: 0.1569 - accuracy: 0.9714 - mae: 0.0108 - val_loss: 61.2777 - val_accuracy: 0.8060 - val_mae: 0.0495\n",
      "Epoch 64/110\n",
      "171/172 [============================>.] - ETA: 0s - loss: 0.1618 - accuracy: 0.9741 - mae: 0.0102\n",
      "Epoch 00064: val_accuracy did not improve from 0.80669\n",
      "172/172 [==============================] - 67s 391ms/step - loss: 0.1613 - accuracy: 0.9741 - mae: 0.0102 - val_loss: 61.3322 - val_accuracy: 0.7994 - val_mae: 0.0505\n",
      "Epoch 65/110\n",
      "171/172 [============================>.] - ETA: 0s - loss: 0.1604 - accuracy: 0.9739 - mae: 0.0098\n",
      "Epoch 00065: val_accuracy did not improve from 0.80669\n",
      "172/172 [==============================] - 68s 393ms/step - loss: 0.1600 - accuracy: 0.9739 - mae: 0.0099 - val_loss: 61.8499 - val_accuracy: 0.7994 - val_mae: 0.0506\n",
      "Epoch 66/110\n",
      "171/172 [============================>.] - ETA: 0s - loss: 0.1334 - accuracy: 0.9776 - mae: 0.0091\n",
      "Epoch 00066: val_accuracy did not improve from 0.80669\n",
      "172/172 [==============================] - 68s 395ms/step - loss: 0.1331 - accuracy: 0.9776 - mae: 0.0091 - val_loss: 62.8739 - val_accuracy: 0.8016 - val_mae: 0.0504\n",
      "Epoch 67/110\n",
      "171/172 [============================>.] - ETA: 0s - loss: 0.1296 - accuracy: 0.9795 - mae: 0.0087\n",
      "Epoch 00067: val_accuracy did not improve from 0.80669\n",
      "172/172 [==============================] - 68s 398ms/step - loss: 0.1290 - accuracy: 0.9796 - mae: 0.0087 - val_loss: 65.7819 - val_accuracy: 0.8067 - val_mae: 0.0492\n",
      "Epoch 68/110\n",
      "171/172 [============================>.] - ETA: 0s - loss: 0.1208 - accuracy: 0.9804 - mae: 0.0082\n",
      "Epoch 00068: val_accuracy did not improve from 0.80669\n",
      "172/172 [==============================] - 68s 393ms/step - loss: 0.1204 - accuracy: 0.9805 - mae: 0.0081 - val_loss: 64.9184 - val_accuracy: 0.8060 - val_mae: 0.0497\n",
      "Epoch 69/110\n",
      "171/172 [============================>.] - ETA: 0s - loss: 0.1257 - accuracy: 0.9804 - mae: 0.0083\n",
      "Epoch 00069: val_accuracy did not improve from 0.80669\n",
      "172/172 [==============================] - 68s 394ms/step - loss: 0.1254 - accuracy: 0.9805 - mae: 0.0083 - val_loss: 66.2514 - val_accuracy: 0.8052 - val_mae: 0.0492\n",
      "Epoch 70/110\n",
      "171/172 [============================>.] - ETA: 0s - loss: 0.1527 - accuracy: 0.9791 - mae: 0.0086\n",
      "Epoch 00070: val_accuracy improved from 0.80669 to 0.81541, saving model to vgg16_base_res.h5\n",
      "172/172 [==============================] - 72s 416ms/step - loss: 0.1529 - accuracy: 0.9790 - mae: 0.0087 - val_loss: 71.2400 - val_accuracy: 0.8154 - val_mae: 0.0470\n",
      "Epoch 71/110\n",
      "171/172 [============================>.] - ETA: 0s - loss: 0.2032 - accuracy: 0.9771 - mae: 0.0088\n",
      "Epoch 00071: val_accuracy did not improve from 0.81541\n",
      "172/172 [==============================] - 68s 394ms/step - loss: 0.2054 - accuracy: 0.9765 - mae: 0.0089 - val_loss: 67.2305 - val_accuracy: 0.7863 - val_mae: 0.0534\n",
      "Epoch 72/110\n",
      "171/172 [============================>.] - ETA: 0s - loss: 1.3131 - accuracy: 0.9022 - mae: 0.0292\n",
      "Epoch 00072: val_accuracy did not improve from 0.81541\n",
      "172/172 [==============================] - 68s 395ms/step - loss: 1.3079 - accuracy: 0.9028 - mae: 0.0291 - val_loss: 59.1563 - val_accuracy: 0.8045 - val_mae: 0.0509\n",
      "Epoch 73/110\n",
      "171/172 [============================>.] - ETA: 0s - loss: 0.3667 - accuracy: 0.9562 - mae: 0.0152\n",
      "Epoch 00073: val_accuracy did not improve from 0.81541\n",
      "172/172 [==============================] - 67s 391ms/step - loss: 0.3662 - accuracy: 0.9564 - mae: 0.0152 - val_loss: 57.6350 - val_accuracy: 0.8023 - val_mae: 0.0511\n",
      "Epoch 74/110\n",
      "171/172 [============================>.] - ETA: 0s - loss: 0.2513 - accuracy: 0.9708 - mae: 0.0117\n",
      "Epoch 00074: val_accuracy did not improve from 0.81541\n",
      "172/172 [==============================] - 68s 396ms/step - loss: 0.2508 - accuracy: 0.9710 - mae: 0.0116 - val_loss: 63.0080 - val_accuracy: 0.8001 - val_mae: 0.0492\n",
      "Epoch 75/110\n",
      "171/172 [============================>.] - ETA: 0s - loss: 0.1308 - accuracy: 0.9804 - mae: 0.0086\n",
      "Epoch 00075: val_accuracy did not improve from 0.81541\n",
      "172/172 [==============================] - 67s 391ms/step - loss: 0.1301 - accuracy: 0.9805 - mae: 0.0086 - val_loss: 60.3887 - val_accuracy: 0.8031 - val_mae: 0.0498\n",
      "Epoch 76/110\n",
      "171/172 [============================>.] - ETA: 0s - loss: 0.0955 - accuracy: 0.9857 - mae: 0.0072\n",
      "Epoch 00076: val_accuracy did not improve from 0.81541\n",
      "172/172 [==============================] - 68s 395ms/step - loss: 0.0952 - accuracy: 0.9858 - mae: 0.0072 - val_loss: 63.2552 - val_accuracy: 0.8038 - val_mae: 0.0491\n",
      "Epoch 77/110\n",
      "171/172 [============================>.] - ETA: 0s - loss: 0.0871 - accuracy: 0.9877 - mae: 0.0065\n",
      "Epoch 00077: val_accuracy did not improve from 0.81541\n",
      "172/172 [==============================] - 68s 394ms/step - loss: 0.0871 - accuracy: 0.9878 - mae: 0.0065 - val_loss: 64.8856 - val_accuracy: 0.8016 - val_mae: 0.0491\n",
      "Epoch 78/110\n",
      "171/172 [============================>.] - ETA: 0s - loss: 0.0789 - accuracy: 0.9883 - mae: 0.0062\n",
      "Epoch 00078: val_accuracy did not improve from 0.81541\n",
      "172/172 [==============================] - 68s 393ms/step - loss: 0.0785 - accuracy: 0.9883 - mae: 0.0062 - val_loss: 68.5298 - val_accuracy: 0.8125 - val_mae: 0.0474\n",
      "Epoch 79/110\n",
      "171/172 [============================>.] - ETA: 0s - loss: 0.0756 - accuracy: 0.9897 - mae: 0.0056\n",
      "Epoch 00079: val_accuracy did not improve from 0.81541\n",
      "172/172 [==============================] - 68s 393ms/step - loss: 0.0757 - accuracy: 0.9896 - mae: 0.0057 - val_loss: 66.9587 - val_accuracy: 0.8089 - val_mae: 0.0488\n",
      "Epoch 80/110\n",
      "171/172 [============================>.] - ETA: 0s - loss: 0.0616 - accuracy: 0.9914 - mae: 0.0052\n",
      "Epoch 00080: val_accuracy did not improve from 0.81541\n",
      "172/172 [==============================] - 67s 392ms/step - loss: 0.0614 - accuracy: 0.9914 - mae: 0.0052 - val_loss: 70.2748 - val_accuracy: 0.8125 - val_mae: 0.0476\n",
      "Epoch 81/110\n",
      "171/172 [============================>.] - ETA: 0s - loss: 0.0622 - accuracy: 0.9910 - mae: 0.0050\n",
      "Epoch 00081: val_accuracy did not improve from 0.81541\n",
      "172/172 [==============================] - 68s 397ms/step - loss: 0.0621 - accuracy: 0.9911 - mae: 0.0050 - val_loss: 72.9694 - val_accuracy: 0.8125 - val_mae: 0.0473\n",
      "Epoch 82/110\n",
      "171/172 [============================>.] - ETA: 0s - loss: 0.0631 - accuracy: 0.9917 - mae: 0.0048\n",
      "Epoch 00082: val_accuracy did not improve from 0.81541\n",
      "172/172 [==============================] - 68s 396ms/step - loss: 0.0628 - accuracy: 0.9918 - mae: 0.0048 - val_loss: 70.0492 - val_accuracy: 0.7994 - val_mae: 0.0497\n",
      "Epoch 83/110\n",
      "171/172 [============================>.] - ETA: 0s - loss: 0.0829 - accuracy: 0.9903 - mae: 0.0051\n",
      "Epoch 00083: val_accuracy did not improve from 0.81541\n",
      "172/172 [==============================] - 67s 392ms/step - loss: 0.0826 - accuracy: 0.9903 - mae: 0.0051 - val_loss: 72.9297 - val_accuracy: 0.8125 - val_mae: 0.0478\n",
      "Epoch 84/110\n",
      "171/172 [============================>.] - ETA: 0s - loss: 0.0812 - accuracy: 0.9884 - mae: 0.0054\n",
      "Epoch 00084: val_accuracy did not improve from 0.81541\n",
      "172/172 [==============================] - 67s 392ms/step - loss: 0.0810 - accuracy: 0.9885 - mae: 0.0054 - val_loss: 72.5545 - val_accuracy: 0.8140 - val_mae: 0.0473\n",
      "Epoch 85/110\n",
      "171/172 [============================>.] - ETA: 0s - loss: 0.1447 - accuracy: 0.9866 - mae: 0.0063\n",
      "Epoch 00085: val_accuracy did not improve from 0.81541\n",
      "172/172 [==============================] - 68s 396ms/step - loss: 0.1464 - accuracy: 0.9865 - mae: 0.0063 - val_loss: 66.1769 - val_accuracy: 0.8023 - val_mae: 0.0496\n",
      "Epoch 86/110\n",
      "171/172 [============================>.] - ETA: 0s - loss: 0.1697 - accuracy: 0.9804 - mae: 0.0075\n",
      "Epoch 00086: val_accuracy did not improve from 0.81541\n",
      "172/172 [==============================] - 67s 390ms/step - loss: 0.1692 - accuracy: 0.9803 - mae: 0.0075 - val_loss: 70.1749 - val_accuracy: 0.8052 - val_mae: 0.0490\n",
      "Epoch 87/110\n",
      "171/172 [============================>.] - ETA: 0s - loss: 0.0526 - accuracy: 0.9934 - mae: 0.0040\n",
      "Epoch 00087: val_accuracy did not improve from 0.81541\n",
      "172/172 [==============================] - 67s 391ms/step - loss: 0.0527 - accuracy: 0.9933 - mae: 0.0040 - val_loss: 71.4014 - val_accuracy: 0.8103 - val_mae: 0.0479\n",
      "Epoch 88/110\n",
      "171/172 [============================>.] - ETA: 0s - loss: 0.0487 - accuracy: 0.9928 - mae: 0.0039\n",
      "Epoch 00088: val_accuracy did not improve from 0.81541\n",
      "172/172 [==============================] - 67s 390ms/step - loss: 0.0486 - accuracy: 0.9927 - mae: 0.0039 - val_loss: 73.1828 - val_accuracy: 0.8045 - val_mae: 0.0491\n",
      "Epoch 89/110\n",
      "171/172 [============================>.] - ETA: 0s - loss: 0.6451 - accuracy: 0.9516 - mae: 0.0151\n",
      "Epoch 00089: val_accuracy did not improve from 0.81541\n",
      "172/172 [==============================] - 68s 395ms/step - loss: 0.6499 - accuracy: 0.9508 - mae: 0.0153 - val_loss: 54.2457 - val_accuracy: 0.7762 - val_mae: 0.0605\n",
      "Epoch 90/110\n",
      "171/172 [============================>.] - ETA: 0s - loss: 0.2148 - accuracy: 0.9702 - mae: 0.0113\n",
      "Epoch 00090: val_accuracy did not improve from 0.81541\n",
      "172/172 [==============================] - 68s 396ms/step - loss: 0.2140 - accuracy: 0.9703 - mae: 0.0113 - val_loss: 62.1884 - val_accuracy: 0.8031 - val_mae: 0.0500\n",
      "Epoch 00090: early stopping\n"
     ]
    }
   ],
   "source": [
    "hist = model.fit(traindata, steps_per_epoch=traindata.samples//traindata.batch_size, validation_data=testdata, \n",
    "                 class_weight=class_weights, validation_steps=testdata.samples//testdata.batch_size, \n",
    "                 epochs=110,callbacks=[checkpoint,early])"
   ]
  },
  {
   "cell_type": "markdown",
   "metadata": {},
   "source": [
    "And lastly we want to visualise how our model is learning. Plot the loss, accuracy, and mae as follows:"
   ]
  },
  {
   "cell_type": "code",
   "execution_count": 13,
   "metadata": {},
   "outputs": [
    {
     "data": {
      "image/png": "[encoded data removed]",
      "text/plain": [
       "<Figure size 432x288 with 1 Axes>"
      ]
     },
     "metadata": {
      "needs_background": "light"
     },
     "output_type": "display_data"
    },
    {
     "data": {
      "image/png": "[encoded data removed]",
      "text/plain": [
       "<Figure size 432x288 with 1 Axes>"
      ]
     },
     "metadata": {
      "needs_background": "light"
     },
     "output_type": "display_data"
    },
    {
     "data": {
      "image/png": "[encoded data removed]",
      "text/plain": [
       "<Figure size 432x288 with 1 Axes>"
      ]
     },
     "metadata": {
      "needs_background": "light"
     },
     "output_type": "display_data"
    }
   ],
   "source": [
    "plt.plot(hist.history['loss'], label='train')\n",
    "plt.plot(hist.history['val_loss'], label='val')\n",
    "plt.title('VGG16: Loss and Validation Loss (0.000001 = Adam LR)')\n",
    "plt.legend();\n",
    "plt.show()\n",
    "\n",
    "plt.plot(hist.history['accuracy'], label='train')\n",
    "plt.plot(hist.history['val_accuracy'], label='val')\n",
    "plt.title('VGG16: Accuracy and Validation Accuracy (0.000001 = Adam LR)')\n",
    "plt.legend();\n",
    "plt.show()\n",
    "\n",
    "plt.plot(hist.history['mae'], label='train')\n",
    "plt.plot(hist.history['val_mae'], label='val')\n",
    "plt.title('VGG16: MAE and Validation MAE (0.000001 = Adam LR)')\n",
    "plt.legend();\n",
    "plt.show()"
   ]
  },
  {
   "cell_type": "markdown",
   "metadata": {},
   "source": [
    "We see that slowly but surely our model is learning our data. Validation accuracy is increasing steadily while mean absolute error is decreasing. However, we should be aware that loss is increasing. In this context, but maybe we can just ditch loss since we are already looking at mae.\n",
    "\n",
    "And that's that! If you're following this series, thank you so much! Please upvote if this helped you in any way.\n"
   ]
  }
 ],
 "metadata": {
  "kernelspec": {
   "display_name": "Python 3",
   "language": "python",
   "name": "python3"
  },
  "language_info": {
   "codemirror_mode": {
    "name": "ipython",
    "version": 3
   },
   "file_extension": ".py",
   "mimetype": "text/x-python",
   "name": "python",
   "nbconvert_exporter": "python",
   "pygments_lexer": "ipython3",
   "version": "3.8.10"
  }
 },
 "nbformat": 4,
 "nbformat_minor": 1
}
